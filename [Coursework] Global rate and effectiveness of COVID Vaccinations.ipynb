{
 "cells": [
  {
   "cell_type": "markdown",
   "metadata": {},
   "source": [
    "# Global rate and effectiveness of COVID Vaccinations 🦠"
   ]
  },
  {
   "cell_type": "code",
   "execution_count": null,
   "metadata": {},
   "outputs": [],
   "source": [
    "%load_ext autoreload\n",
    "%autoreload 2"
   ]
  },
  {
   "cell_type": "code",
   "execution_count": null,
   "metadata": {},
   "outputs": [],
   "source": [
    "import numpy as np\n",
    "import pandas as pd\n",
    "import os\n",
    "\n",
    "import pathlib\n",
    "import urllib.request\n",
    "from ipywidgets import interact, FloatSlider\n",
    "\n",
    "import matplotlib.pyplot as plt\n",
    "plt.style.use('seaborn-white')\n",
    "plt.rc('figure', dpi=100, figsize=(8, 5))\n",
    "plt.rc('font', size=12)"
   ]
  },
  {
   "cell_type": "code",
   "execution_count": null,
   "metadata": {},
   "outputs": [],
   "source": [
    "from project import *"
   ]
  },
  {
   "cell_type": "markdown",
   "metadata": {},
   "source": [
    "Data science has been an important tool in understanding the development of the COVID-19 pandemic. In this project, we'll take a took at two real-world datasets that measure vaccination rates and effectiveness.\n",
    "---\n",
    "\n",
    "The file `data/covid_vaccinations_updated.csv` contains information on the number of COVID vaccinations that have been administered in various countries and regions of the world, as of April 7th, 2022:"
   ]
  },
  {
   "cell_type": "code",
   "execution_count": null,
   "metadata": {},
   "outputs": [
    {
     "data": {
      "text/html": [
       "<div>\n",
       "<style scoped>\n",
       "    .dataframe tbody tr th:only-of-type {\n",
       "        vertical-align: middle;\n",
       "    }\n",
       "\n",
       "    .dataframe tbody tr th {\n",
       "        vertical-align: top;\n",
       "    }\n",
       "\n",
       "    .dataframe thead th {\n",
       "        text-align: right;\n",
       "    }\n",
       "</style>\n",
       "<table border=\"1\" class=\"dataframe\">\n",
       "  <thead>\n",
       "    <tr style=\"text-align: right;\">\n",
       "      <th></th>\n",
       "      <th>Country_Region</th>\n",
       "      <th>Date</th>\n",
       "      <th>Doses_admin</th>\n",
       "      <th>People_partially_vaccinated</th>\n",
       "      <th>People_fully_vaccinated</th>\n",
       "      <th>Report_Date_String</th>\n",
       "      <th>UID</th>\n",
       "      <th>Province_State</th>\n",
       "    </tr>\n",
       "  </thead>\n",
       "  <tbody>\n",
       "    <tr>\n",
       "      <th>0</th>\n",
       "      <td>Afghanistan</td>\n",
       "      <td>2021-02-22</td>\n",
       "      <td>0</td>\n",
       "      <td>0.0</td>\n",
       "      <td>0.0</td>\n",
       "      <td>2021-02-22</td>\n",
       "      <td>4.0</td>\n",
       "      <td>NaN</td>\n",
       "    </tr>\n",
       "    <tr>\n",
       "      <th>1</th>\n",
       "      <td>Afghanistan</td>\n",
       "      <td>2021-02-23</td>\n",
       "      <td>0</td>\n",
       "      <td>0.0</td>\n",
       "      <td>0.0</td>\n",
       "      <td>2021-02-23</td>\n",
       "      <td>4.0</td>\n",
       "      <td>NaN</td>\n",
       "    </tr>\n",
       "    <tr>\n",
       "      <th>2</th>\n",
       "      <td>Afghanistan</td>\n",
       "      <td>2021-02-24</td>\n",
       "      <td>0</td>\n",
       "      <td>0.0</td>\n",
       "      <td>0.0</td>\n",
       "      <td>2021-02-24</td>\n",
       "      <td>4.0</td>\n",
       "      <td>NaN</td>\n",
       "    </tr>\n",
       "    <tr>\n",
       "      <th>3</th>\n",
       "      <td>Afghanistan</td>\n",
       "      <td>2021-02-25</td>\n",
       "      <td>0</td>\n",
       "      <td>0.0</td>\n",
       "      <td>0.0</td>\n",
       "      <td>2021-02-25</td>\n",
       "      <td>4.0</td>\n",
       "      <td>NaN</td>\n",
       "    </tr>\n",
       "    <tr>\n",
       "      <th>4</th>\n",
       "      <td>Afghanistan</td>\n",
       "      <td>2021-02-26</td>\n",
       "      <td>0</td>\n",
       "      <td>0.0</td>\n",
       "      <td>0.0</td>\n",
       "      <td>2021-02-26</td>\n",
       "      <td>4.0</td>\n",
       "      <td>NaN</td>\n",
       "    </tr>\n",
       "    <tr>\n",
       "      <th>...</th>\n",
       "      <td>...</td>\n",
       "      <td>...</td>\n",
       "      <td>...</td>\n",
       "      <td>...</td>\n",
       "      <td>...</td>\n",
       "      <td>...</td>\n",
       "      <td>...</td>\n",
       "      <td>...</td>\n",
       "    </tr>\n",
       "    <tr>\n",
       "      <th>197387</th>\n",
       "      <td>Zimbabwe</td>\n",
       "      <td>2022-04-03</td>\n",
       "      <td>7684182</td>\n",
       "      <td>5517779.0</td>\n",
       "      <td>3561400.0</td>\n",
       "      <td>2022-04-04</td>\n",
       "      <td>716.0</td>\n",
       "      <td>NaN</td>\n",
       "    </tr>\n",
       "    <tr>\n",
       "      <th>197388</th>\n",
       "      <td>Zimbabwe</td>\n",
       "      <td>2022-04-04</td>\n",
       "      <td>7684182</td>\n",
       "      <td>5517779.0</td>\n",
       "      <td>3561400.0</td>\n",
       "      <td>2022-04-05</td>\n",
       "      <td>716.0</td>\n",
       "      <td>NaN</td>\n",
       "    </tr>\n",
       "    <tr>\n",
       "      <th>197389</th>\n",
       "      <td>Zimbabwe</td>\n",
       "      <td>2022-04-05</td>\n",
       "      <td>9694465</td>\n",
       "      <td>5562437.0</td>\n",
       "      <td>3570255.0</td>\n",
       "      <td>2022-04-06</td>\n",
       "      <td>716.0</td>\n",
       "      <td>NaN</td>\n",
       "    </tr>\n",
       "    <tr>\n",
       "      <th>197390</th>\n",
       "      <td>Zimbabwe</td>\n",
       "      <td>2022-04-06</td>\n",
       "      <td>9807529</td>\n",
       "      <td>5589007.0</td>\n",
       "      <td>3572995.0</td>\n",
       "      <td>2022-04-07</td>\n",
       "      <td>716.0</td>\n",
       "      <td>NaN</td>\n",
       "    </tr>\n",
       "    <tr>\n",
       "      <th>197391</th>\n",
       "      <td>Zimbabwe</td>\n",
       "      <td>2022-04-07</td>\n",
       "      <td>9884783</td>\n",
       "      <td>5628591.0</td>\n",
       "      <td>3581021.0</td>\n",
       "      <td>2022-04-08</td>\n",
       "      <td>716.0</td>\n",
       "      <td>NaN</td>\n",
       "    </tr>\n",
       "  </tbody>\n",
       "</table>\n",
       "<p>197392 rows × 8 columns</p>\n",
       "</div>"
      ],
      "text/plain": [
       "       Country_Region        Date  Doses_admin  People_partially_vaccinated  \\\n",
       "0         Afghanistan  2021-02-22            0                          0.0   \n",
       "1         Afghanistan  2021-02-23            0                          0.0   \n",
       "2         Afghanistan  2021-02-24            0                          0.0   \n",
       "3         Afghanistan  2021-02-25            0                          0.0   \n",
       "4         Afghanistan  2021-02-26            0                          0.0   \n",
       "...               ...         ...          ...                          ...   \n",
       "197387       Zimbabwe  2022-04-03      7684182                    5517779.0   \n",
       "197388       Zimbabwe  2022-04-04      7684182                    5517779.0   \n",
       "197389       Zimbabwe  2022-04-05      9694465                    5562437.0   \n",
       "197390       Zimbabwe  2022-04-06      9807529                    5589007.0   \n",
       "197391       Zimbabwe  2022-04-07      9884783                    5628591.0   \n",
       "\n",
       "        People_fully_vaccinated Report_Date_String    UID Province_State  \n",
       "0                           0.0         2021-02-22    4.0            NaN  \n",
       "1                           0.0         2021-02-23    4.0            NaN  \n",
       "2                           0.0         2021-02-24    4.0            NaN  \n",
       "3                           0.0         2021-02-25    4.0            NaN  \n",
       "4                           0.0         2021-02-26    4.0            NaN  \n",
       "...                         ...                ...    ...            ...  \n",
       "197387                3561400.0         2022-04-04  716.0            NaN  \n",
       "197388                3561400.0         2022-04-05  716.0            NaN  \n",
       "197389                3570255.0         2022-04-06  716.0            NaN  \n",
       "197390                3572995.0         2022-04-07  716.0            NaN  \n",
       "197391                3581021.0         2022-04-08  716.0            NaN  \n",
       "\n",
       "[197392 rows x 8 columns]"
      ]
     },
     "execution_count": 5,
     "metadata": {},
     "output_type": "execute_result"
    }
   ],
   "source": [
    "vacs = pd.read_csv(os.path.join('data', 'covid_vaccinations_updated.csv'))\n",
    "vacs"
   ]
  },
  {
   "cell_type": "markdown",
   "metadata": {},
   "source": [
    "<a name='part1'></a>\n",
    "\n",
    "## Part 1: Global Vaccination Rates 🌎\n",
    "\n",
    "One question we might hope to answer with this data is, **which countries have the highest vaccination rates?** Unfortunately, the messiness of real-world data means that answering even this simple question requires a bit of cleaning and organization. We'll do this cleaning and organization in the next few questions.\n",
    "\n",
    "First, we need to find the total number of vaccinated individuals in each country/region. To do this, we have to understand what the values in the `'Doses_admin'` column mean. Are they the number of doses administered on *that day*? Or are they the *cumulative* number of doses administered? This can be answered with a plot."
   ]
  },
  {
   "cell_type": "code",
   "execution_count": null,
   "metadata": {
    "scrolled": false
   },
   "outputs": [
    {
     "data": {
      "image/png": "[encoded data removed]",
      "text/plain": [
       "<Figure size 800x500 with 1 Axes>"
      ]
     },
     "metadata": {},
     "output_type": "display_data"
    }
   ],
   "source": [
    "vacs[vacs['Country_Region'] == 'US'].plot(x='Date', y='Doses_admin')\n",
    "plt.title('Doses_admin in the US')\n",
    "plt.xticks(rotation=45);"
   ]
  },
  {
   "cell_type": "markdown",
   "metadata": {},
   "source": [
    "Since the curve is always increasing, this plot suggests that the `'Doses_admin'` column contains the *cumulative* number of doses administered, and this is indeed what the column is *supposed* to be. However, you shouldn't *assume* that the reported vaccination rates are actually cumulative. For example, let's look at the plot for Afghanistan:"
   ]
  },
  {
   "cell_type": "code",
   "execution_count": null,
   "metadata": {},
   "outputs": [
    {
     "data": {
      "image/png": "[encoded data removed]",
      "text/plain": [
       "<Figure size 800x500 with 1 Axes>"
      ]
     },
     "metadata": {},
     "output_type": "display_data"
    }
   ],
   "source": [
    "vacs[vacs['Country_Region'] == 'Afghanistan'].plot(x='Date', y='Doses_admin')\n",
    "plt.title('Doses_admin in Afghanistan')\n",
    "plt.xticks(rotation=45);"
   ]
  },
  {
   "cell_type": "markdown",
   "metadata": {},
   "source": [
    "Notice the dips in the graph? Unless there were *negative* doses administered (which would be awkward), we must conclude that the data is messy - there will be instances where, either due to errors in reporting or in recording, the cumulative number of doses actually *decreases* from one day to the next."
   ]
  },
  {
   "cell_type": "markdown",
   "metadata": {},
   "source": [
    "### Question 1 (Checkpoint Question)\n",
    "\n",
    "Let's explore whether the messiness seen above is common.\n",
    "\n",
    "#### `is_monotonic`\n",
    "\n",
    "Create a function named `is_monotonic` which accepts a 1D `numpy` array and returns `True` if every entry in the array (except the first) is greater than or equal to the previous entry, and `False` otherwise.\n",
    "\n",
    "<br>\n",
    "\n",
    "#### `monotonic_by_country`\n",
    "\n",
    "Create a function named `monotonic_by_country` which accepts a DataFrame like `vacs` and returns a DataFrame with one row for each country and three `bool` columns – `'Doses_admin_monotonic'`, `'People_partially_vaccinated_monotonic'`, and `'People_fully_vaccinated_monotonic'`. An entry in the `'Doses_admin'` column should be `True` if the country's `'Doses_admin'` is monotonically increasing and `False` otherwise; likewise for the other columns. The index of the returned DataFrame should contain country names."
   ]
  },
  {
   "cell_type": "code",
   "execution_count": 9,
   "metadata": {},
   "outputs": [
    {
     "data": {
      "text/html": [
       "<div>\n",
       "<style scoped>\n",
       "    .dataframe tbody tr th:only-of-type {\n",
       "        vertical-align: middle;\n",
       "    }\n",
       "\n",
       "    .dataframe tbody tr th {\n",
       "        vertical-align: top;\n",
       "    }\n",
       "\n",
       "    .dataframe thead th {\n",
       "        text-align: right;\n",
       "    }\n",
       "</style>\n",
       "<table border=\"1\" class=\"dataframe\">\n",
       "  <thead>\n",
       "    <tr style=\"text-align: right;\">\n",
       "      <th></th>\n",
       "      <th>Country_Region</th>\n",
       "      <th>Date</th>\n",
       "      <th>Doses_admin</th>\n",
       "      <th>People_partially_vaccinated</th>\n",
       "      <th>People_fully_vaccinated</th>\n",
       "      <th>Report_Date_String</th>\n",
       "      <th>UID</th>\n",
       "      <th>Province_State</th>\n",
       "    </tr>\n",
       "  </thead>\n",
       "  <tbody>\n",
       "    <tr>\n",
       "      <th>0</th>\n",
       "      <td>Afghanistan</td>\n",
       "      <td>2021-02-22</td>\n",
       "      <td>0</td>\n",
       "      <td>0.0</td>\n",
       "      <td>0.0</td>\n",
       "      <td>2021-02-22</td>\n",
       "      <td>4.0</td>\n",
       "      <td>NaN</td>\n",
       "    </tr>\n",
       "    <tr>\n",
       "      <th>1</th>\n",
       "      <td>Afghanistan</td>\n",
       "      <td>2021-02-23</td>\n",
       "      <td>0</td>\n",
       "      <td>0.0</td>\n",
       "      <td>0.0</td>\n",
       "      <td>2021-02-23</td>\n",
       "      <td>4.0</td>\n",
       "      <td>NaN</td>\n",
       "    </tr>\n",
       "    <tr>\n",
       "      <th>2</th>\n",
       "      <td>Afghanistan</td>\n",
       "      <td>2021-02-24</td>\n",
       "      <td>0</td>\n",
       "      <td>0.0</td>\n",
       "      <td>0.0</td>\n",
       "      <td>2021-02-24</td>\n",
       "      <td>4.0</td>\n",
       "      <td>NaN</td>\n",
       "    </tr>\n",
       "    <tr>\n",
       "      <th>3</th>\n",
       "      <td>Afghanistan</td>\n",
       "      <td>2021-02-25</td>\n",
       "      <td>0</td>\n",
       "      <td>0.0</td>\n",
       "      <td>0.0</td>\n",
       "      <td>2021-02-25</td>\n",
       "      <td>4.0</td>\n",
       "      <td>NaN</td>\n",
       "    </tr>\n",
       "    <tr>\n",
       "      <th>4</th>\n",
       "      <td>Afghanistan</td>\n",
       "      <td>2021-02-26</td>\n",
       "      <td>0</td>\n",
       "      <td>0.0</td>\n",
       "      <td>0.0</td>\n",
       "      <td>2021-02-26</td>\n",
       "      <td>4.0</td>\n",
       "      <td>NaN</td>\n",
       "    </tr>\n",
       "    <tr>\n",
       "      <th>...</th>\n",
       "      <td>...</td>\n",
       "      <td>...</td>\n",
       "      <td>...</td>\n",
       "      <td>...</td>\n",
       "      <td>...</td>\n",
       "      <td>...</td>\n",
       "      <td>...</td>\n",
       "      <td>...</td>\n",
       "    </tr>\n",
       "    <tr>\n",
       "      <th>197387</th>\n",
       "      <td>Zimbabwe</td>\n",
       "      <td>2022-04-03</td>\n",
       "      <td>7684182</td>\n",
       "      <td>5517779.0</td>\n",
       "      <td>3561400.0</td>\n",
       "      <td>2022-04-04</td>\n",
       "      <td>716.0</td>\n",
       "      <td>NaN</td>\n",
       "    </tr>\n",
       "    <tr>\n",
       "      <th>197388</th>\n",
       "      <td>Zimbabwe</td>\n",
       "      <td>2022-04-04</td>\n",
       "      <td>7684182</td>\n",
       "      <td>5517779.0</td>\n",
       "      <td>3561400.0</td>\n",
       "      <td>2022-04-05</td>\n",
       "      <td>716.0</td>\n",
       "      <td>NaN</td>\n",
       "    </tr>\n",
       "    <tr>\n",
       "      <th>197389</th>\n",
       "      <td>Zimbabwe</td>\n",
       "      <td>2022-04-05</td>\n",
       "      <td>9694465</td>\n",
       "      <td>5562437.0</td>\n",
       "      <td>3570255.0</td>\n",
       "      <td>2022-04-06</td>\n",
       "      <td>716.0</td>\n",
       "      <td>NaN</td>\n",
       "    </tr>\n",
       "    <tr>\n",
       "      <th>197390</th>\n",
       "      <td>Zimbabwe</td>\n",
       "      <td>2022-04-06</td>\n",
       "      <td>9807529</td>\n",
       "      <td>5589007.0</td>\n",
       "      <td>3572995.0</td>\n",
       "      <td>2022-04-07</td>\n",
       "      <td>716.0</td>\n",
       "      <td>NaN</td>\n",
       "    </tr>\n",
       "    <tr>\n",
       "      <th>197391</th>\n",
       "      <td>Zimbabwe</td>\n",
       "      <td>2022-04-07</td>\n",
       "      <td>9884783</td>\n",
       "      <td>5628591.0</td>\n",
       "      <td>3581021.0</td>\n",
       "      <td>2022-04-08</td>\n",
       "      <td>716.0</td>\n",
       "      <td>NaN</td>\n",
       "    </tr>\n",
       "  </tbody>\n",
       "</table>\n",
       "<p>197392 rows × 8 columns</p>\n",
       "</div>"
      ],
      "text/plain": [
       "       Country_Region        Date  Doses_admin  People_partially_vaccinated  \\\n",
       "0         Afghanistan  2021-02-22            0                          0.0   \n",
       "1         Afghanistan  2021-02-23            0                          0.0   \n",
       "2         Afghanistan  2021-02-24            0                          0.0   \n",
       "3         Afghanistan  2021-02-25            0                          0.0   \n",
       "4         Afghanistan  2021-02-26            0                          0.0   \n",
       "...               ...         ...          ...                          ...   \n",
       "197387       Zimbabwe  2022-04-03      7684182                    5517779.0   \n",
       "197388       Zimbabwe  2022-04-04      7684182                    5517779.0   \n",
       "197389       Zimbabwe  2022-04-05      9694465                    5562437.0   \n",
       "197390       Zimbabwe  2022-04-06      9807529                    5589007.0   \n",
       "197391       Zimbabwe  2022-04-07      9884783                    5628591.0   \n",
       "\n",
       "        People_fully_vaccinated Report_Date_String    UID Province_State  \n",
       "0                           0.0         2021-02-22    4.0            NaN  \n",
       "1                           0.0         2021-02-23    4.0            NaN  \n",
       "2                           0.0         2021-02-24    4.0            NaN  \n",
       "3                           0.0         2021-02-25    4.0            NaN  \n",
       "4                           0.0         2021-02-26    4.0            NaN  \n",
       "...                         ...                ...    ...            ...  \n",
       "197387                3561400.0         2022-04-04  716.0            NaN  \n",
       "197388                3561400.0         2022-04-05  716.0            NaN  \n",
       "197389                3570255.0         2022-04-06  716.0            NaN  \n",
       "197390                3572995.0         2022-04-07  716.0            NaN  \n",
       "197391                3581021.0         2022-04-08  716.0            NaN  \n",
       "\n",
       "[197392 rows x 8 columns]"
      ]
     },
     "execution_count": 9,
     "metadata": {},
     "output_type": "execute_result"
    }
   ],
   "source": [
    "vacs"
   ]
  },
  {
   "cell_type": "code",
   "execution_count": null,
   "metadata": {
    "tags": []
   },
   "outputs": [],
   "source": [
    "def is_monotonic(arr):\n",
    "    \"\"\"\n",
    "    Given a numpy array of numbers, determines if each entry is >= than the previous.\n",
    "    \n",
    "    Example\n",
    "    -------\n",
    "    \n",
    "    >>> is_monotonic(np.array([3, 6, 2, 8]))\n",
    "    False\n",
    "    \n",
    "    \"\"\"\n",
    "    return (np.diff(arr) >= 0).all()\n",
    "\n",
    "\n",
    "def monotonic_by_country(vacs):\n",
    "    \"\"\"\n",
    "    Given a DataFrame like `vacs`, returns a DataFrame with one row for each country and \n",
    "    three bool columns - 'Doses_admin_monotonic', 'People_partially_vaccinated_monotonic', and \n",
    "    'People_fully_vaccinated_monotonic'. An entry in the 'Doses_admin' column should be True if the \n",
    "    country's Doses_admin is monotonically increasing and False otherwise; likewise for the other\n",
    "    columns. The index of the returned DataFrame should contain country names.\n",
    "    \n",
    "    Example\n",
    "    -------\n",
    "    \n",
    "    >>> # this file contains a subset of `vacs`\n",
    "    >>> subset_vacs = pd.read_csv(os.path.join('data', 'covid-vaccinations-subset.csv'))\n",
    "    >>> result = monotonic_by_country(subset_vacs)\n",
    "    >>> isinstance(result, pd.DataFrame)\n",
    "    True\n",
    "    >>> result.shape == (2, 3)\n",
    "    True\n",
    "    >>> result.loc['Venezuela', 'Doses_admin_monotonic'] == False\n",
    "    True\n",
    "    \n",
    "    \"\"\"\n",
    "    vacs_copy = vacs.copy()\n",
    "    result = vacs_copy.groupby(\"Country_Region\").agg({'Doses_admin': is_monotonic, \"People_partially_vaccinated\": is_monotonic, \"People_fully_vaccinated\": is_monotonic})\n",
    "    result.columns = [\"Doses_admin_monotonic\", \"People_partially_vaccinated_monotonic\", \"People_fully_vaccinated_monotonic\"]\n",
    "    return result"
   ]
  },
  {
   "cell_type": "markdown",
   "metadata": {},
   "source": [
    "We'd like to get the total number of doses administered, people partially vaccinated, and people fully vaccinated for each country. If the data were truly monotonic, we could simply group by country and find the maximum within each group and within each column – this would be the overall cumulative total. However, if the data has errors that make it not monotonically increasing, there could be a noisy \"spike\" in the graph, so that the maximum may be an unfaithful measure of the total number of doses. Instead of the maximum, we should use something more robust, such as **the 97th percentile**.\n",
    "\n",
    "Create a function named `robust_totals` that accepts a DataFrame like `vacs` and returns a DataFrame with one row for each country and three columns – `'Doses_admin'`, `'People_partially_vaccinated'`, and `'People_fully_vaccinated'`. The `'Doses_admin'` column should contain the 97th percentile of the `'Doses_admin'` values for each country; likewise for the other columns. The index of the returned DataFrame should contain country names."
   ]
  },
  {
   "cell_type": "code",
   "execution_count": 111,
   "metadata": {
    "tags": []
   },
   "outputs": [],
   "source": [
    "def percentile_97th(arr):\n",
    "    return np.percentile(arr, 97)"
   ]
  },
  {
   "cell_type": "code",
   "execution_count": null,
   "metadata": {
    "scrolled": true,
    "tags": []
   },
   "outputs": [],
   "source": [
    "\n",
    "def robust_totals(vacs):\n",
    "    \"\"\"\n",
    "    Accepts a DataFrame like vacs above and returns a DataFrame with one row for each \n",
    "    country/region and three columns - Doses_admin, People_partially_vaccinated, and \n",
    "    People_fully_vaccinated - where an entry in the Doses_admin column is the 97th \n",
    "    percentile of the values in that column for that country; likewise for the other \n",
    "    columns. The index of the returned DataFrame should contain country names.\n",
    "    \n",
    "    Example\n",
    "    -------\n",
    "    \n",
    "    >>> # this file contains a subset of `vacs`\n",
    "    >>> subset_vacs = pd.read_csv(os.path.join('data', 'covid-vaccinations-subset.csv'))\n",
    "    >>> subset_tots = robust_totals(subset_vacs)\n",
    "    >>> isinstance(subset_tots, pd.DataFrame)\n",
    "    True\n",
    "    >>> subset_tots.shape\n",
    "    (2, 3)\n",
    "    >>> int(subset_tots.loc['Venezuela', 'Doses_admin'])\n",
    "    15714857\n",
    "    \n",
    "    \"\"\"\n",
    "    def percentile_97th(arr):\n",
    "        return np.percentile(arr, 97)\n",
    "    vacs_copy = vacs.copy()\n",
    "    result = vacs_copy.groupby(\"Country_Region\").agg({'Doses_admin': percentile_97th, \"People_partially_vaccinated\": percentile_97th, \"People_fully_vaccinated\": percentile_97th})\n",
    "    return result"
   ]
  },
  {
   "cell_type": "markdown",
   "metadata": {},
   "source": [
    "We'd like to compute for each country the number of people vaccinated as a percentage of the total population. To this end, we have downloaded a CSV file containing the population of every country in the world:"
   ]
  },
  {
   "cell_type": "code",
   "execution_count": 16,
   "metadata": {
    "scrolled": false
   },
   "outputs": [
    {
     "data": {
      "text/html": [
       "<div>\n",
       "<style scoped>\n",
       "    .dataframe tbody tr th:only-of-type {\n",
       "        vertical-align: middle;\n",
       "    }\n",
       "\n",
       "    .dataframe tbody tr th {\n",
       "        vertical-align: top;\n",
       "    }\n",
       "\n",
       "    .dataframe thead th {\n",
       "        text-align: right;\n",
       "    }\n",
       "</style>\n",
       "<table border=\"1\" class=\"dataframe\">\n",
       "  <thead>\n",
       "    <tr style=\"text-align: right;\">\n",
       "      <th></th>\n",
       "      <th>Country (or dependency)</th>\n",
       "      <th>Population (2020)</th>\n",
       "      <th>Yearly Change</th>\n",
       "      <th>Net Change</th>\n",
       "      <th>Density (P/Km²)</th>\n",
       "      <th>Land Area (Km²)</th>\n",
       "      <th>Migrants (net)</th>\n",
       "      <th>Fert. Rate</th>\n",
       "      <th>Med. Age</th>\n",
       "      <th>Urban Pop %</th>\n",
       "      <th>World Share</th>\n",
       "    </tr>\n",
       "  </thead>\n",
       "  <tbody>\n",
       "    <tr>\n",
       "      <th>0</th>\n",
       "      <td>China</td>\n",
       "      <td>1,440,297,825</td>\n",
       "      <td>0.39 %</td>\n",
       "      <td>5540090</td>\n",
       "      <td>153</td>\n",
       "      <td>9,388,211</td>\n",
       "      <td>-348,399.0</td>\n",
       "      <td>1.7</td>\n",
       "      <td>38</td>\n",
       "      <td>61 %</td>\n",
       "      <td>18.47 %</td>\n",
       "    </tr>\n",
       "    <tr>\n",
       "      <th>1</th>\n",
       "      <td>India</td>\n",
       "      <td>1,382,345,085</td>\n",
       "      <td>0.99 %</td>\n",
       "      <td>13586631</td>\n",
       "      <td>464</td>\n",
       "      <td>2,973,190</td>\n",
       "      <td>-532,687.0</td>\n",
       "      <td>2.2</td>\n",
       "      <td>28</td>\n",
       "      <td>35 %</td>\n",
       "      <td>17.70 %</td>\n",
       "    </tr>\n",
       "    <tr>\n",
       "      <th>2</th>\n",
       "      <td>United States</td>\n",
       "      <td>331,341,050</td>\n",
       "      <td>0.59 %</td>\n",
       "      <td>1937734</td>\n",
       "      <td>36</td>\n",
       "      <td>9,147,420</td>\n",
       "      <td>954,806.0</td>\n",
       "      <td>1.8</td>\n",
       "      <td>38</td>\n",
       "      <td>83 %</td>\n",
       "      <td>4.25 %</td>\n",
       "    </tr>\n",
       "    <tr>\n",
       "      <th>3</th>\n",
       "      <td>Indonesia</td>\n",
       "      <td>274,021,604</td>\n",
       "      <td>1.07 %</td>\n",
       "      <td>2898047</td>\n",
       "      <td>151</td>\n",
       "      <td>1,811,570</td>\n",
       "      <td>-98,955.0</td>\n",
       "      <td>2.3</td>\n",
       "      <td>30</td>\n",
       "      <td>56 %</td>\n",
       "      <td>3.51 %</td>\n",
       "    </tr>\n",
       "    <tr>\n",
       "      <th>4</th>\n",
       "      <td>Pakistan</td>\n",
       "      <td>221,612,785</td>\n",
       "      <td>2.00 %</td>\n",
       "      <td>4327022</td>\n",
       "      <td>287</td>\n",
       "      <td>770,880</td>\n",
       "      <td>-233,379.0</td>\n",
       "      <td>3.6</td>\n",
       "      <td>23</td>\n",
       "      <td>35 %</td>\n",
       "      <td>2.83 %</td>\n",
       "    </tr>\n",
       "    <tr>\n",
       "      <th>...</th>\n",
       "      <td>...</td>\n",
       "      <td>...</td>\n",
       "      <td>...</td>\n",
       "      <td>...</td>\n",
       "      <td>...</td>\n",
       "      <td>...</td>\n",
       "      <td>...</td>\n",
       "      <td>...</td>\n",
       "      <td>...</td>\n",
       "      <td>...</td>\n",
       "      <td>...</td>\n",
       "    </tr>\n",
       "    <tr>\n",
       "      <th>230</th>\n",
       "      <td>Montserrat</td>\n",
       "      <td>4,993</td>\n",
       "      <td>0.06 %</td>\n",
       "      <td>3</td>\n",
       "      <td>50</td>\n",
       "      <td>100</td>\n",
       "      <td>NaN</td>\n",
       "      <td>N.A.</td>\n",
       "      <td>N.A.</td>\n",
       "      <td>10 %</td>\n",
       "      <td>0.00 %</td>\n",
       "    </tr>\n",
       "    <tr>\n",
       "      <th>231</th>\n",
       "      <td>Falkland Islands</td>\n",
       "      <td>3,497</td>\n",
       "      <td>3.05 %</td>\n",
       "      <td>103</td>\n",
       "      <td>0</td>\n",
       "      <td>12,170</td>\n",
       "      <td>NaN</td>\n",
       "      <td>N.A.</td>\n",
       "      <td>N.A.</td>\n",
       "      <td>66 %</td>\n",
       "      <td>0.00 %</td>\n",
       "    </tr>\n",
       "    <tr>\n",
       "      <th>232</th>\n",
       "      <td>Niue</td>\n",
       "      <td>1,628</td>\n",
       "      <td>0.68 %</td>\n",
       "      <td>11</td>\n",
       "      <td>6</td>\n",
       "      <td>260</td>\n",
       "      <td>NaN</td>\n",
       "      <td>N.A.</td>\n",
       "      <td>N.A.</td>\n",
       "      <td>46 %</td>\n",
       "      <td>0.00 %</td>\n",
       "    </tr>\n",
       "    <tr>\n",
       "      <th>233</th>\n",
       "      <td>Tokelau</td>\n",
       "      <td>1,360</td>\n",
       "      <td>1.27 %</td>\n",
       "      <td>17</td>\n",
       "      <td>136</td>\n",
       "      <td>10</td>\n",
       "      <td>NaN</td>\n",
       "      <td>N.A.</td>\n",
       "      <td>N.A.</td>\n",
       "      <td>0 %</td>\n",
       "      <td>0.00 %</td>\n",
       "    </tr>\n",
       "    <tr>\n",
       "      <th>234</th>\n",
       "      <td>Holy See</td>\n",
       "      <td>801</td>\n",
       "      <td>0.25 %</td>\n",
       "      <td>2</td>\n",
       "      <td>2003</td>\n",
       "      <td>0</td>\n",
       "      <td>NaN</td>\n",
       "      <td>N.A.</td>\n",
       "      <td>N.A.</td>\n",
       "      <td>N.A.</td>\n",
       "      <td>0.00 %</td>\n",
       "    </tr>\n",
       "  </tbody>\n",
       "</table>\n",
       "<p>235 rows × 11 columns</p>\n",
       "</div>"
      ],
      "text/plain": [
       "    Country (or dependency) Population (2020) Yearly Change  Net Change  \\\n",
       "0                     China     1,440,297,825        0.39 %     5540090   \n",
       "1                     India     1,382,345,085        0.99 %    13586631   \n",
       "2             United States       331,341,050        0.59 %     1937734   \n",
       "3                 Indonesia       274,021,604        1.07 %     2898047   \n",
       "4                  Pakistan       221,612,785        2.00 %     4327022   \n",
       "..                      ...               ...           ...         ...   \n",
       "230              Montserrat             4,993        0.06 %           3   \n",
       "231        Falkland Islands             3,497        3.05 %         103   \n",
       "232                    Niue             1,628        0.68 %          11   \n",
       "233                 Tokelau             1,360        1.27 %          17   \n",
       "234                Holy See               801        0.25 %           2   \n",
       "\n",
       "     Density (P/Km²) Land Area (Km²) Migrants (net) Fert. Rate Med. Age  \\\n",
       "0                153       9,388,211     -348,399.0        1.7       38   \n",
       "1                464       2,973,190     -532,687.0        2.2       28   \n",
       "2                 36       9,147,420      954,806.0        1.8       38   \n",
       "3                151       1,811,570      -98,955.0        2.3       30   \n",
       "4                287         770,880     -233,379.0        3.6       23   \n",
       "..               ...             ...            ...        ...      ...   \n",
       "230               50             100            NaN       N.A.     N.A.   \n",
       "231                0          12,170            NaN       N.A.     N.A.   \n",
       "232                6             260            NaN       N.A.     N.A.   \n",
       "233              136              10            NaN       N.A.     N.A.   \n",
       "234             2003               0            NaN       N.A.     N.A.   \n",
       "\n",
       "    Urban Pop % World Share  \n",
       "0          61 %     18.47 %  \n",
       "1          35 %     17.70 %  \n",
       "2          83 %      4.25 %  \n",
       "3          56 %      3.51 %  \n",
       "4          35 %      2.83 %  \n",
       "..          ...         ...  \n",
       "230        10 %      0.00 %  \n",
       "231        66 %      0.00 %  \n",
       "232        46 %      0.00 %  \n",
       "233         0 %      0.00 %  \n",
       "234        N.A.      0.00 %  \n",
       "\n",
       "[235 rows x 11 columns]"
      ]
     },
     "execution_count": 16,
     "metadata": {},
     "output_type": "execute_result"
    }
   ],
   "source": [
    "pops_raw = pd.read_csv(os.path.join('data', 'populations.csv'))\n",
    "pops_raw"
   ]
  },
  {
   "cell_type": "markdown",
   "metadata": {},
   "source": [
    "Unfortunately, this DataFrame's data types require some cleaning. All of the columns except the first are numeric and should either be integers or floats, as appropriate, but many of them are being stored as strings. Additionally, some rows have missing values.\n",
    "\n",
    "Create a function named `fix_dtypes` which accepts a DataFrame like `pops_raw` above and returns a DataFrame with exactly the same columns and rows, but with the data types \"fixed\" to be appropriate for the data contained within. In addition, ensure that all missing values are represented by `np.NaN`. All percentages should be represented as decimals – e.g., 27% should be 0.27."
   ]
  },
  {
   "cell_type": "code",
   "execution_count": 17,
   "metadata": {
    "tags": []
   },
   "outputs": [
    {
     "name": "stdout",
     "output_type": "stream",
     "text": [
      "<class 'pandas.core.frame.DataFrame'>\n",
      "RangeIndex: 235 entries, 0 to 234\n",
      "Data columns (total 11 columns):\n",
      " #   Column                   Non-Null Count  Dtype \n",
      "---  ------                   --------------  ----- \n",
      " 0   Country (or dependency)  235 non-null    object\n",
      " 1   Population (2020)        235 non-null    object\n",
      " 2   Yearly Change            235 non-null    object\n",
      " 3   Net Change               235 non-null    int64 \n",
      " 4   Density (P/Km²)          235 non-null    int64 \n",
      " 5   Land Area (Km²)          235 non-null    object\n",
      " 6   Migrants (net)           201 non-null    object\n",
      " 7   Fert. Rate               235 non-null    object\n",
      " 8   Med. Age                 235 non-null    object\n",
      " 9   Urban Pop %              235 non-null    object\n",
      " 10  World Share              235 non-null    object\n",
      "dtypes: int64(2), object(9)\n",
      "memory usage: 20.3+ KB\n"
     ]
    }
   ],
   "source": [
    "pops_raw.info()"
   ]
  },
  {
   "cell_type": "code",
   "execution_count": null,
   "metadata": {
    "tags": []
   },
   "outputs": [],
   "source": [
    "def fix_dtypes(pops_raw):\n",
    "    \"\"\"\n",
    "    Accepts a DataFrame like pops_raw above and returns a DataFrame with exactly\n",
    "    the same columns and rows, but with the data types \"fixed\" to be appropriate\n",
    "    for the data contained within. In addition, ensure that all missing values are\n",
    "    represented by np.NaN. All percentages should be represented as decimals – e.g.,\n",
    "    27% should be 0.27.\n",
    "    \n",
    "    Example\n",
    "    -------\n",
    "    \n",
    "    >>> pops_raw = pd.read_csv(os.path.join('data', 'populations.csv'))\n",
    "    >>> pops = fix_dtypes(pops_raw)\n",
    "    >>> isinstance(pops, pd.DataFrame)\n",
    "    True\n",
    "    >>> pops.shape\n",
    "    (235, 11)\n",
    "    >>> pops.loc[pops['Country (or dependency)'] == 'Montserrat', 'Population (2020)'].iloc[0]\n",
    "    4993\n",
    "    \n",
    "    \"\"\"\n",
    "    pops_raw_copy = pops_raw.copy()\n",
    "    num_col_name = pops_raw.columns[1:]\n",
    "    for col in num_col_name:\n",
    "        if (pops_raw_copy[col].dtype != 'int64') & (pops_raw_copy[col].dtype != 'float64'):    \n",
    "            if pops_raw_copy[col].str.contains(\"%\").any():\n",
    "                pops_raw_copy[col] = pops_raw_copy[col].str.strip(\"%\")\n",
    "                pops_raw_copy[col] = pd.to_numeric(pops_raw_copy[col], errors='coerce')/100\n",
    "            elif pops_raw_copy[col].str.contains(\",\").any():\n",
    "                pops_raw_copy[col] = pops_raw_copy[col].str.replace(',', '')\n",
    "                if pops_raw_copy[col].str.isdigit().all():\n",
    "                    pops_raw_copy[col] = pops_raw_copy[col].astype(int)\n",
    "                else:\n",
    "                    pops_raw_copy[col] = pops_raw_copy[col].astype(float)\n",
    "                \n",
    "            elif pops_raw_copy[col].str.isdigit().all():\n",
    "                pops_raw_copy[col] = pops_raw_copy[col].astype(int)\n",
    "                \n",
    "            else:\n",
    "                pops_raw_copy[col] = pd.to_numeric(pops_raw_copy[col], errors='coerce')\n",
    "    return pops_raw_copy"
   ]
  },
  {
   "cell_type": "markdown",
   "metadata": {},
   "source": [
    "Our goal is to compute the percentage of people vaccinated in each country. Our next step is to take the population numbers from the previous problem and insert them into the DataFrame of vaccination numbers (`tots`). In theory this is a simple `concat` or `merge`, but there's a problem: the names of the countries are not always the same in each DataFrame."
   ]
  },
  {
   "cell_type": "code",
   "execution_count": null,
   "metadata": {
    "scrolled": true,
    "tags": []
   },
   "outputs": [],
   "source": [
    "def missing_in_pops(tots, pops):\n",
    "    \"\"\"\n",
    "    Takes in two DataFrames, the first, like tots above, containing the total number of\n",
    "    vaccinations per country, and the second like pops above, containing the\n",
    "    population of each country. It should return a Python set of names that appear\n",
    "    in tots but not in pops.\n",
    "    \n",
    "    Example\n",
    "    -------\n",
    "    >>> tots = pd.DataFrame({\n",
    "    ...         'Doses_admin': [1, 2, 3],\n",
    "    ...         'People_partially_vaccinated': [1, 2, 3],\n",
    "    ...         'People_fully_vaccinated': [1, 2, 3]\n",
    "    ...     },\n",
    "    ...     index = ['China', 'Angola', 'Republic of Data Science']\n",
    "    ... )\n",
    "    >>> pops_raw = pd.read_csv(os.path.join('data', 'populations.csv'))\n",
    "    >>> pops = fix_dtypes(pops_raw)\n",
    "    >>> missing = missing_in_pops(tots, pops)\n",
    "    >>> isinstance(missing, set)\n",
    "    True\n",
    "    >>> missing\n",
    "    {'Republic of Data Science'}\n",
    "    \"\"\"\n",
    "    return set(tots.index[~tots.index.isin(pops['Country (or dependency)'])])\n",
    "\n",
    "    \n",
    "def fix_names(pops):\n",
    "    \"\"\"\n",
    "    Accepts one argument - a DataFrame like pops – and returns a copy of pops, but with the \n",
    "    'Country (or dependency)' column changed so that all countries that appear in tots \n",
    "    also appear in the result, with a few exceptions listed in the notebook.\n",
    "    \n",
    "    Example\n",
    "    -------\n",
    "    \n",
    "    >>> pops_raw = pd.read_csv(os.path.join('data', 'populations.csv'))\n",
    "    >>> pops = fix_dtypes(pops_raw)\n",
    "    >>> pops_fixed = fix_names(pops)\n",
    "    >>> isinstance(pops_fixed, pd.DataFrame)\n",
    "    True\n",
    "    >>> pops_fixed.shape\n",
    "    (235, 11)\n",
    "    >>> 'Burma' in pops_fixed['Country (or dependency)'].values\n",
    "    True\n",
    "    >>> not 'Myanmar' in pops_fixed['Country (or dependency)'].values\n",
    "    True\n",
    "    \n",
    "    \"\"\"\n",
    "    pops_copy = pops.copy()\n",
    "    country_dict = {'South Korea': 'Korea, South', 'DR Congo': 'Congo (Kinshasa)', 'Congo': 'Congo (Brazzaville)',\n",
    "               'United States': 'US', 'Czech Republic (Czechia)': 'Czechia', 'Saint Kitts & Nevis': 'Saint Kitts and Nevis',\n",
    "               'St. Vincent & Grenadines': 'Saint Vincent and the Grenadines', 'Sao Tome & Principe': 'Sao Tome and Principe',\n",
    "               \"Côte d'Ivoire\": \"Cote d'Ivoire\", 'Myanmar':'Burma', 'State of Palestine':'West Bank and Gaza'}\n",
    "    pops_copy['Country (or dependency)'].replace(country_dict, inplace=True)\n",
    "    return pops_copy"
   ]
  },
  {
   "cell_type": "markdown",
   "metadata": {},
   "source": [
    "Create a function named `top_k_fully_vaccinated` that accepts three arguments: a DataFrame like `tots`, a DataFrame like `pops_fixed`, and an integer, `k`, and returns a Series of the $k$ top vaccination rates of any country, sorted in descending order. For the purposes of this question, we define vaccination rate to be the number of fully vaccinated individuals divided by the total population. "
   ]
  },
  {
   "cell_type": "code",
   "execution_count": null,
   "metadata": {},
   "outputs": [],
   "source": [
    "def top_k_fully_vaccinated(tots, pops_fixed, k):\n",
    "    \"\"\"\n",
    "    Accepts three arguments: a DataFrame like `tots`, a DataFrame like `pops_fixed`, \n",
    "    and an integer, `k`, and returns a Series of the $k$ top vaccination rates of any country, \n",
    "    sorted in descending order. For the purposes of this question, we define vaccination rate \n",
    "    to be the number of fully vaccinated individuals divided by the total population. \n",
    "    The index of the Series should be the country name, and the rates \n",
    "    should be decimal numbers between 0 and 1.\n",
    "    \n",
    "    Example\n",
    "    -------\n",
    "    \n",
    "    >>> # this file contains a subset of `tots`\n",
    "    >>> tots_sample = pd.read_csv(os.path.join('data', 'tots_sample_for_tests.csv')).set_index('Country_Region')\n",
    "    >>> pops_raw = pd.read_csv(os.path.join('data', 'populations.csv'))\n",
    "    >>> pops = fix_dtypes(pops_raw)\n",
    "    >>> pops_fixed = fix_names(pops)\n",
    "    >>> top_k_fully_vaccinated(tots_sample, pops_fixed, 3).index[2]\n",
    "    'Oman'\n",
    "    \"\"\"\n",
    "    just_full_vax = tots[['People_fully_vaccinated']]\n",
    "    just_pops = pops_fixed.set_index('Country (or dependency)')[['Population (2020)']]\n",
    "    combined = just_full_vax.merge(just_pops, left_index=True, right_index=True, how='inner')\n",
    "    vax_rate_series = (combined['People_fully_vaccinated']/combined['Population (2020)']).sort_values(ascending=False).clip(0,1)\n",
    "    return vax_rate_series.iloc[:k]"
   ]
  },
  {
   "cell_type": "code",
   "execution_count": 176,
   "metadata": {},
   "outputs": [
    {
     "data": {
      "text/plain": [
       "Malta                   1.000000\n",
       "United Arab Emirates    0.967983\n",
       "Brunei                  0.924083\n",
       "Portugal                0.923824\n",
       "Chile                   0.906013\n",
       "Qatar                   0.896619\n",
       "Cuba                    0.875327\n",
       "Singapore               0.855566\n",
       "Iceland                 0.848994\n",
       "Cambodia                0.830611\n",
       "dtype: float64"
      ]
     },
     "execution_count": 176,
     "metadata": {},
     "output_type": "execute_result"
    }
   ],
   "source": [
    "# run this to see the result, and don't change this cell -- it is used by the tests\n",
    "top_k = top_k_fully_vaccinated(tots, pops_fixed, 10)\n",
    "top_k"
   ]
  },
  {
   "cell_type": "markdown",
   "metadata": {},
   "source": [
    "---\n",
    "\n",
    "<a name='part2'></a>\n",
    "\n",
    "## Part 2: Vaccine Effectiveness 💉\n",
    "\n",
    "There has naturally been much interest in the effectiveness of COVID-19 vaccines. In particular, recent reports suggest that the effectiveness of vaccines – and the Pfizer vaccine in particular – may decrease over time. While this is true, the public perception of declining vaccine effectiveness has been affected by what is often a poor use of statistics by media outlets.\n",
    "\n",
    "For example, take the following blurb from [this article](https://www.cbc.ca/news/world/israel-covid-delta-variant-booster-1.6159472) on the Canadian Broadcasting Corporation's website (emphasis added):\n",
    "\n",
    "> Meanwhile, Israeli health officials reported what appeared to be a waning efficacy of the vaccine, including among those who had been double vaccinated. **Data showed that of the serious cases being admitted to hospital, around 60 per cent of patients were people who had been fully vaccinated**, though most were over 60 or with underlying health conditions.\n",
    "\n",
    "This stat sounds terrible – if you're sick in a hospital bed with COVID-19, you're actually more likely to be vaccinated than not! If you're not a data scientist, you might come away with the conclusion that the vaccine is no longer effective against serious illness, or – even worse – that getting the vaccine will **increase** your risk of sickness. Of course, this statistic by itself is actually meaningless. For instance, imagine a world in which 100% of people are vaccinated. Then 100% of people admitted to the hospital will be vaccinated, too! In Question 8, we will explain the theory behind **vaccine effectiveness**, a statistic that more meaningfully measures the improvement in outcomes for vaccinated individuals over unvaccinated individuals.\n",
    "\n",
    "To start, let's load in some data. For this project, we'll work with a dataset of vaccine effectiveness in Israel through mid-summer 2021. The vaccination and hospitalization records in the dataset are real. Israel was mostly vaccinated using the Pfizer vaccine, and was one of the first places where lots of data on the Delta variant was gathered."
   ]
  },
  {
   "cell_type": "code",
   "execution_count": 178,
   "metadata": {},
   "outputs": [],
   "source": [
    "# Download Israeli COVID vaccinations data from the ☁️\n",
    "if not pathlib.Path(os.path.join('data', 'israel.csv')).exists():\n",
    "    urllib.request.urlretrieve(\n",
    "        'https://f000.backblazeb2.com/file/dsc-data/covid-israel/israel.csv',\n",
    "        os.path.join('data', 'israel.csv')\n",
    "    )"
   ]
  },
  {
   "cell_type": "code",
   "execution_count": 179,
   "metadata": {},
   "outputs": [
    {
     "data": {
      "text/html": [
       "<div>\n",
       "<style scoped>\n",
       "    .dataframe tbody tr th:only-of-type {\n",
       "        vertical-align: middle;\n",
       "    }\n",
       "\n",
       "    .dataframe tbody tr th {\n",
       "        vertical-align: top;\n",
       "    }\n",
       "\n",
       "    .dataframe thead th {\n",
       "        text-align: right;\n",
       "    }\n",
       "</style>\n",
       "<table border=\"1\" class=\"dataframe\">\n",
       "  <thead>\n",
       "    <tr style=\"text-align: right;\">\n",
       "      <th></th>\n",
       "      <th>Age</th>\n",
       "      <th>Vaccinated</th>\n",
       "      <th>Severe Sickness</th>\n",
       "    </tr>\n",
       "  </thead>\n",
       "  <tbody>\n",
       "    <tr>\n",
       "      <th>0</th>\n",
       "      <td>23</td>\n",
       "      <td>1</td>\n",
       "      <td>0</td>\n",
       "    </tr>\n",
       "    <tr>\n",
       "      <th>1</th>\n",
       "      <td>60</td>\n",
       "      <td>1</td>\n",
       "      <td>0</td>\n",
       "    </tr>\n",
       "    <tr>\n",
       "      <th>2</th>\n",
       "      <td>43</td>\n",
       "      <td>1</td>\n",
       "      <td>0</td>\n",
       "    </tr>\n",
       "    <tr>\n",
       "      <th>3</th>\n",
       "      <td>40</td>\n",
       "      <td>1</td>\n",
       "      <td>0</td>\n",
       "    </tr>\n",
       "    <tr>\n",
       "      <th>4</th>\n",
       "      <td>71</td>\n",
       "      <td>1</td>\n",
       "      <td>0</td>\n",
       "    </tr>\n",
       "    <tr>\n",
       "      <th>...</th>\n",
       "      <td>...</td>\n",
       "      <td>...</td>\n",
       "      <td>...</td>\n",
       "    </tr>\n",
       "    <tr>\n",
       "      <th>6937537</th>\n",
       "      <td>14</td>\n",
       "      <td>1</td>\n",
       "      <td>0</td>\n",
       "    </tr>\n",
       "    <tr>\n",
       "      <th>6937538</th>\n",
       "      <td>30</td>\n",
       "      <td>1</td>\n",
       "      <td>0</td>\n",
       "    </tr>\n",
       "    <tr>\n",
       "      <th>6937539</th>\n",
       "      <td>18</td>\n",
       "      <td>0</td>\n",
       "      <td>0</td>\n",
       "    </tr>\n",
       "    <tr>\n",
       "      <th>6937540</th>\n",
       "      <td>45</td>\n",
       "      <td>1</td>\n",
       "      <td>0</td>\n",
       "    </tr>\n",
       "    <tr>\n",
       "      <th>6937541</th>\n",
       "      <td>27</td>\n",
       "      <td>1</td>\n",
       "      <td>0</td>\n",
       "    </tr>\n",
       "  </tbody>\n",
       "</table>\n",
       "<p>6937542 rows × 3 columns</p>\n",
       "</div>"
      ],
      "text/plain": [
       "        Age  Vaccinated  Severe Sickness\n",
       "0        23           1                0\n",
       "1        60           1                0\n",
       "2        43           1                0\n",
       "3        40           1                0\n",
       "4        71           1                0\n",
       "...      ..         ...              ...\n",
       "6937537  14           1                0\n",
       "6937538  30           1                0\n",
       "6937539  18           0                0\n",
       "6937540  45           1                0\n",
       "6937541  27           1                0\n",
       "\n",
       "[6937542 rows x 3 columns]"
      ]
     },
     "execution_count": 179,
     "metadata": {},
     "output_type": "execute_result"
    }
   ],
   "source": [
    "israel_raw = pd.read_csv(os.path.join('data', 'israel.csv'))\n",
    "israel_raw"
   ]
  },
  {
   "cell_type": "markdown",
   "metadata": {},
   "source": [
    "Each row in the dataset is a person. Some are vaccinated (marked with a 1 in the \"Vaccinated\" column), and some became severely ill (marked with a 1 in the \"Severe Sickness\" column).\n",
    "\n",
    "As always, we will first check that the data is clean."
   ]
  },
  {
   "cell_type": "code",
   "execution_count": 180,
   "metadata": {},
   "outputs": [
    {
     "name": "stdout",
     "output_type": "stream",
     "text": [
      "<class 'pandas.core.frame.DataFrame'>\n",
      "RangeIndex: 6937542 entries, 0 to 6937541\n",
      "Data columns (total 3 columns):\n",
      " #   Column           Dtype \n",
      "---  ------           ----- \n",
      " 0   Age              object\n",
      " 1   Vaccinated       int64 \n",
      " 2   Severe Sickness  int64 \n",
      "dtypes: int64(2), object(1)\n",
      "memory usage: 158.8+ MB\n"
     ]
    }
   ],
   "source": [
    "israel_raw.info()"
   ]
  },
  {
   "cell_type": "markdown",
   "metadata": {},
   "source": [
    "If you look at the data types of each column in `israel_raw`, you'll see that the `'Age'` column has a `dtype` of `object`. If you investigate further, you will see that a special value has been used to indicate that some ages are missing. Write a function named `clean_israel_data` that accepts a DataFrame like `israel_raw` and returns a *new* DataFrame where the missing ages are replaced by `np.NaN`s and the `'Age'` column's data type is `float`. Furthermore, the `'Vaccinated'` and `'Severe Sickness'` columns should be stored as `bool`s. The shape of the returned DataFrame should be the same as `israel_raw`, and, as usual, your function should not modify the input DataFrame."
   ]
  },
  {
   "cell_type": "code",
   "execution_count": 181,
   "metadata": {
    "tags": []
   },
   "outputs": [
    {
     "data": {
      "text/html": [
       "<div>\n",
       "<style scoped>\n",
       "    .dataframe tbody tr th:only-of-type {\n",
       "        vertical-align: middle;\n",
       "    }\n",
       "\n",
       "    .dataframe tbody tr th {\n",
       "        vertical-align: top;\n",
       "    }\n",
       "\n",
       "    .dataframe thead th {\n",
       "        text-align: right;\n",
       "    }\n",
       "</style>\n",
       "<table border=\"1\" class=\"dataframe\">\n",
       "  <thead>\n",
       "    <tr style=\"text-align: right;\">\n",
       "      <th></th>\n",
       "      <th>Age</th>\n",
       "      <th>Vaccinated</th>\n",
       "      <th>Severe Sickness</th>\n",
       "    </tr>\n",
       "  </thead>\n",
       "  <tbody>\n",
       "    <tr>\n",
       "      <th>0</th>\n",
       "      <td>23.0</td>\n",
       "      <td>True</td>\n",
       "      <td>False</td>\n",
       "    </tr>\n",
       "    <tr>\n",
       "      <th>1</th>\n",
       "      <td>60.0</td>\n",
       "      <td>True</td>\n",
       "      <td>False</td>\n",
       "    </tr>\n",
       "    <tr>\n",
       "      <th>2</th>\n",
       "      <td>43.0</td>\n",
       "      <td>True</td>\n",
       "      <td>False</td>\n",
       "    </tr>\n",
       "    <tr>\n",
       "      <th>3</th>\n",
       "      <td>40.0</td>\n",
       "      <td>True</td>\n",
       "      <td>False</td>\n",
       "    </tr>\n",
       "    <tr>\n",
       "      <th>4</th>\n",
       "      <td>71.0</td>\n",
       "      <td>True</td>\n",
       "      <td>False</td>\n",
       "    </tr>\n",
       "    <tr>\n",
       "      <th>...</th>\n",
       "      <td>...</td>\n",
       "      <td>...</td>\n",
       "      <td>...</td>\n",
       "    </tr>\n",
       "    <tr>\n",
       "      <th>6937537</th>\n",
       "      <td>14.0</td>\n",
       "      <td>True</td>\n",
       "      <td>False</td>\n",
       "    </tr>\n",
       "    <tr>\n",
       "      <th>6937538</th>\n",
       "      <td>30.0</td>\n",
       "      <td>True</td>\n",
       "      <td>False</td>\n",
       "    </tr>\n",
       "    <tr>\n",
       "      <th>6937539</th>\n",
       "      <td>18.0</td>\n",
       "      <td>False</td>\n",
       "      <td>False</td>\n",
       "    </tr>\n",
       "    <tr>\n",
       "      <th>6937540</th>\n",
       "      <td>45.0</td>\n",
       "      <td>True</td>\n",
       "      <td>False</td>\n",
       "    </tr>\n",
       "    <tr>\n",
       "      <th>6937541</th>\n",
       "      <td>27.0</td>\n",
       "      <td>True</td>\n",
       "      <td>False</td>\n",
       "    </tr>\n",
       "  </tbody>\n",
       "</table>\n",
       "<p>6937542 rows × 3 columns</p>\n",
       "</div>"
      ],
      "text/plain": [
       "          Age  Vaccinated  Severe Sickness\n",
       "0        23.0        True            False\n",
       "1        60.0        True            False\n",
       "2        43.0        True            False\n",
       "3        40.0        True            False\n",
       "4        71.0        True            False\n",
       "...       ...         ...              ...\n",
       "6937537  14.0        True            False\n",
       "6937538  30.0        True            False\n",
       "6937539  18.0       False            False\n",
       "6937540  45.0        True            False\n",
       "6937541  27.0        True            False\n",
       "\n",
       "[6937542 rows x 3 columns]"
      ]
     },
     "execution_count": 181,
     "metadata": {},
     "output_type": "execute_result"
    }
   ],
   "source": [
    "israel_raw_copy = israel_raw.copy()\n",
    "israel_raw_copy[\"Age\"] = israel_raw_copy[\"Age\"].replace('-', np.NaN).astype(float)\n",
    "israel_raw_copy[\"Vaccinated\"] = israel_raw_copy[\"Vaccinated\"].apply(bool)\n",
    "israel_raw_copy[\"Severe Sickness\"] = israel_raw_copy[\"Severe Sickness\"].apply(bool)\n",
    "israel_raw_copy"
   ]
  },
  {
   "cell_type": "code",
   "execution_count": null,
   "metadata": {
    "tags": []
   },
   "outputs": [],
   "source": [
    "def clean_israel_data(df):\n",
    "    \"\"\"\n",
    "    Accepts a DataFrame like israel_raw and returns a new DataFrame where the missing\n",
    "    ages are replaced by np.NaNs and the 'Age' column's data type is float. Furthermore,\n",
    "    the 'Vaccinated' and 'Severe Sickness' columns should be stored as bools. The shape\n",
    "    of the returned DataFrame should be the same as israel_raw, and, as usual, your\n",
    "    function should not modify the input argument.\n",
    "    \n",
    "    Example\n",
    "    -------\n",
    "    \n",
    "    >>> # this file contains a subset of israel.csv\n",
    "    >>> israel_raw = pd.read_csv(os.path.join('data', 'israel-subset.csv'))\n",
    "    >>> result = clean_israel_data(israel_raw)\n",
    "    >>> isinstance(result, pd.DataFrame)\n",
    "    True\n",
    "    >>> str(result.dtypes['Age'])\n",
    "    'float64'\n",
    "    \n",
    "    \"\"\"\n",
    "    israel_raw_copy = df.copy()\n",
    "    israel_raw_copy[\"Age\"] = israel_raw_copy[\"Age\"].replace('-', np.NaN).astype(float)\n",
    "    israel_raw_copy[\"Vaccinated\"] = israel_raw_copy[\"Vaccinated\"].apply(bool)\n",
    "    israel_raw_copy[\"Severe Sickness\"] = israel_raw_copy[\"Severe Sickness\"].apply(bool)\n",
    "    return israel_raw_copy"
   ]
  },
  {
   "cell_type": "code",
   "execution_count": 182,
   "metadata": {},
   "outputs": [
    {
     "data": {
      "text/html": [
       "<div>\n",
       "<style scoped>\n",
       "    .dataframe tbody tr th:only-of-type {\n",
       "        vertical-align: middle;\n",
       "    }\n",
       "\n",
       "    .dataframe tbody tr th {\n",
       "        vertical-align: top;\n",
       "    }\n",
       "\n",
       "    .dataframe thead th {\n",
       "        text-align: right;\n",
       "    }\n",
       "</style>\n",
       "<table border=\"1\" class=\"dataframe\">\n",
       "  <thead>\n",
       "    <tr style=\"text-align: right;\">\n",
       "      <th></th>\n",
       "      <th>Age</th>\n",
       "      <th>Vaccinated</th>\n",
       "      <th>Severe Sickness</th>\n",
       "    </tr>\n",
       "  </thead>\n",
       "  <tbody>\n",
       "    <tr>\n",
       "      <th>0</th>\n",
       "      <td>23.0</td>\n",
       "      <td>True</td>\n",
       "      <td>False</td>\n",
       "    </tr>\n",
       "    <tr>\n",
       "      <th>1</th>\n",
       "      <td>60.0</td>\n",
       "      <td>True</td>\n",
       "      <td>False</td>\n",
       "    </tr>\n",
       "    <tr>\n",
       "      <th>2</th>\n",
       "      <td>43.0</td>\n",
       "      <td>True</td>\n",
       "      <td>False</td>\n",
       "    </tr>\n",
       "    <tr>\n",
       "      <th>3</th>\n",
       "      <td>40.0</td>\n",
       "      <td>True</td>\n",
       "      <td>False</td>\n",
       "    </tr>\n",
       "    <tr>\n",
       "      <th>4</th>\n",
       "      <td>71.0</td>\n",
       "      <td>True</td>\n",
       "      <td>False</td>\n",
       "    </tr>\n",
       "    <tr>\n",
       "      <th>...</th>\n",
       "      <td>...</td>\n",
       "      <td>...</td>\n",
       "      <td>...</td>\n",
       "    </tr>\n",
       "    <tr>\n",
       "      <th>6937537</th>\n",
       "      <td>14.0</td>\n",
       "      <td>True</td>\n",
       "      <td>False</td>\n",
       "    </tr>\n",
       "    <tr>\n",
       "      <th>6937538</th>\n",
       "      <td>30.0</td>\n",
       "      <td>True</td>\n",
       "      <td>False</td>\n",
       "    </tr>\n",
       "    <tr>\n",
       "      <th>6937539</th>\n",
       "      <td>18.0</td>\n",
       "      <td>False</td>\n",
       "      <td>False</td>\n",
       "    </tr>\n",
       "    <tr>\n",
       "      <th>6937540</th>\n",
       "      <td>45.0</td>\n",
       "      <td>True</td>\n",
       "      <td>False</td>\n",
       "    </tr>\n",
       "    <tr>\n",
       "      <th>6937541</th>\n",
       "      <td>27.0</td>\n",
       "      <td>True</td>\n",
       "      <td>False</td>\n",
       "    </tr>\n",
       "  </tbody>\n",
       "</table>\n",
       "<p>6937542 rows × 3 columns</p>\n",
       "</div>"
      ],
      "text/plain": [
       "          Age  Vaccinated  Severe Sickness\n",
       "0        23.0        True            False\n",
       "1        60.0        True            False\n",
       "2        43.0        True            False\n",
       "3        40.0        True            False\n",
       "4        71.0        True            False\n",
       "...       ...         ...              ...\n",
       "6937537  14.0        True            False\n",
       "6937538  30.0        True            False\n",
       "6937539  18.0       False            False\n",
       "6937540  45.0        True            False\n",
       "6937541  27.0        True            False\n",
       "\n",
       "[6937542 rows x 3 columns]"
      ]
     },
     "execution_count": 182,
     "metadata": {},
     "output_type": "execute_result"
    }
   ],
   "source": [
    "# run this to see the result, and don't change this cell -- it is used by the tests\n",
    "israel = clean_israel_data(israel_raw)\n",
    "israel"
   ]
  },
  {
   "cell_type": "markdown",
   "metadata": {},
   "source": [
    "We now need to decide what to do with the missing values in the `'Age'` column. Can we simply drop those rows? First, let's look at whether the missing values might be MCAR, NMAR, missing by design, etc. We'll first check to see if the distribution of the other columns differs depending on whether the ages are missing or not:"
   ]
  },
  {
   "cell_type": "code",
   "execution_count": 49,
   "metadata": {},
   "outputs": [
    {
     "data": {
      "text/html": [
       "<div>\n",
       "<style scoped>\n",
       "    .dataframe tbody tr th:only-of-type {\n",
       "        vertical-align: middle;\n",
       "    }\n",
       "\n",
       "    .dataframe tbody tr th {\n",
       "        vertical-align: top;\n",
       "    }\n",
       "\n",
       "    .dataframe thead th {\n",
       "        text-align: right;\n",
       "    }\n",
       "</style>\n",
       "<table border=\"1\" class=\"dataframe\">\n",
       "  <thead>\n",
       "    <tr style=\"text-align: right;\">\n",
       "      <th></th>\n",
       "      <th>Age</th>\n",
       "      <th>Vaccinated</th>\n",
       "      <th>Severe Sickness</th>\n",
       "    </tr>\n",
       "    <tr>\n",
       "      <th>null_age</th>\n",
       "      <th></th>\n",
       "      <th></th>\n",
       "      <th></th>\n",
       "    </tr>\n",
       "  </thead>\n",
       "  <tbody>\n",
       "    <tr>\n",
       "      <th>False</th>\n",
       "      <td>41.036</td>\n",
       "      <td>0.812204</td>\n",
       "      <td>0.000074</td>\n",
       "    </tr>\n",
       "    <tr>\n",
       "      <th>True</th>\n",
       "      <td>NaN</td>\n",
       "      <td>0.805164</td>\n",
       "      <td>0.000000</td>\n",
       "    </tr>\n",
       "  </tbody>\n",
       "</table>\n",
       "</div>"
      ],
      "text/plain": [
       "             Age  Vaccinated  Severe Sickness\n",
       "null_age                                     \n",
       "False     41.036    0.812204         0.000074\n",
       "True         NaN    0.805164         0.000000"
      ]
     },
     "execution_count": 49,
     "metadata": {},
     "output_type": "execute_result"
    }
   ],
   "source": [
    "israel.assign(null_age=israel['Age'].isna()).groupby('null_age').mean()"
   ]
  },
  {
   "cell_type": "markdown",
   "metadata": {},
   "source": [
    "Because the vaccination rate and severe sickness rate appear to be about the same, whether or not `'Age'` is missing, we hypothesize that `'Age'` is MCAR (missing completely at random). Let's investigate.\n",
    "\n",
    "#### `mcar_permutation_tests`\n",
    "\n",
    "Write a function named `mcar_permutation_tests` that accepts two arguments – a DataFrame like `israel` and a number `n_permutations` of permutations – and runs the two permutation tests described below. Your function should return a 2-tuple where the first entry is an array of the simulated test statistics for the first permutation test, and the second entry is an array of simulated test statistics for the second permutation test.\n",
    "\n",
    "- The first permutation test should check the null hypothesis that values in the `'Vaccinated'` column for rows where the `'Age'` was missing were drawn from the same distribution as the values in rows where `'Age'` was not missing. The alternative hypothesis should be that they were drawn from *different* distributions. As your test statistic, use the **absolute difference in group means**. \n",
    "- The second permutation test should do the same, but for the `'Severe Sickness'` column."
   ]
  },
  {
   "cell_type": "code",
   "execution_count": 216,
   "metadata": {
    "tags": []
   },
   "outputs": [],
   "source": [
    "def mcar_permutation_tests(df, n_permutations=100):\n",
    "    \"\"\"\n",
    "    Accepts two arguments – a DataFrame like israel and a number n_permutations of\n",
    "    permutations – and runs the two permutation tests described in the notebook. Your\n",
    "    function should return a 2-tuple where the first entry is an array of the simulated test\n",
    "    statistics for the first permutation test, and the second entry is an array of\n",
    "    simulated test statistics for the second permutation test.\n",
    "    \n",
    "    Example\n",
    "    -------\n",
    "    \n",
    "    >>> israel_raw = pd.read_csv(os.path.join('data', 'israel-subset.csv'))\n",
    "    >>> israel = clean_israel_data(israel_raw)\n",
    "    >>> res = mcar_permutation_tests(israel, n_permutations=3)\n",
    "    >>> isinstance(res[0], np.ndarray) and isinstance(res[1], np.ndarray)\n",
    "    True\n",
    "    >>> len(res[0]) == len(res[1]) == 3 # because only 3 permutations\n",
    "    True\n",
    "    \n",
    "    \"\"\"\n",
    "    israel_copy = df.copy()\n",
    "    israel_copy['age_missing'] = israel_copy['Age'].isna()\n",
    "    israel_copy.groupby('age_missing')[['Vaccinated', 'Severe Sickness']].mean()\n",
    "    test_vax = []\n",
    "    test_sick = []\n",
    "    for _ in range(n_permutations):\n",
    "        israel_copy['shuffled_vax'] = np.random.permutation(israel_copy['Vaccinated'])\n",
    "        israel_copy['shuffled_sick'] = np.random.permutation(israel_copy['Severe Sickness'])\n",
    "        s = israel_copy.groupby('age_missing')[['shuffled_vax', 'shuffled_sick']].mean().diff(axis=0).abs().iloc[-1]\n",
    "        test_vax.append(s.loc['shuffled_vax'])\n",
    "        test_sick.append(s.loc['shuffled_sick'])\n",
    "    return (np.array(test_vax), np.array(test_sick))"
   ]
  },
  {
   "cell_type": "markdown",
   "metadata": {},
   "source": [
    "Let's proceed by simply dropping the rows with missing values:"
   ]
  },
  {
   "cell_type": "code",
   "execution_count": 233,
   "metadata": {},
   "outputs": [],
   "source": [
    "vax = israel.dropna()"
   ]
  },
  {
   "cell_type": "markdown",
   "metadata": {},
   "source": [
    "Moving forward, use `vax`, not `israel`."
   ]
  },
  {
   "cell_type": "markdown",
   "metadata": {},
   "source": [
    "***Note:*** Assume that \"hospitalization\" and \"severe illness\" mean the same thing; that is, if someone is hospitalized they developed severe illness and vice versa.\n",
    "\n",
    "As mentioned at the start of Part 2, looking at the probability of being vaccinated if you're hospitalized is meaningless, since if everyone is vaccinated, this probability will be 1. Instead, we care about **the probability of being hospitalized if you're vaccinated.** More than that, what we care most about is how this probability relates to the probability of being hospitalized if you're **unvaccinated**.\n",
    "\n",
    "To put it more concretely, let's say that 1 in 100 vaccinated people are hospitalized, while 10 in 100 unvaccinated people are hospitalized. This means that unvaccinated people are 10x more likely to be hospitalized than vaccinated people. To put it another way, if those 10 hospitalized unvaccinated people had been vaccinated, we'd expect that 9 of them would not have been hospitalized. That is, the vaccine would have prevented 90% of the hospitalizations, and we might therefore say that it is 90% effective against severe illness.\n",
    "\n",
    "This is the intuition behind the definition of **vaccine effectiveness** (see the CDC's [page](https://www.cdc.gov/csels/dsepd/ss1978/lesson3/section6.html) for more information). That is, to compute a vaccine's effectiveness, we need to know two things:\n",
    "\n",
    "1. The proportion of vaccinated people who developed severe illness (i.e., the probability that a vaccinated person will be hospitalized). Call this $p_V$.\n",
    "2. The proportion of unvaccinated people who developed severe illness (i.e., the probability that an unvaccinated person will be hospitalized). Call this $p_U$.\n",
    "\n",
    "Then:\n",
    "\n",
    "$$\n",
    "\\text{effectiveness} = 1 - \\frac{p_V}{p_U} = \\frac{p_U - p_V}{p_U}\n",
    "$$\n",
    "\n",
    "**What this formula calculates, in words, is the proportion of unvaccinated people with severe illness who would (we expect) not have severe illness if they were vaccinated.** For instance, if no one who is vaccinated becomes severely ill, then $p_V = 0$ and the effectiveness is 1 (100%). On the other hand, if the vaccine is no better than being unvaccinated, $p_V = p_U$ and the effectiveness is 0 (0%).\n",
    "\n",
    "\n",
    "Many news articles report effectiveness numbers, and this is certainly better than reporting the percentage of hospital patients that are vaccinated. Note, though, that there are different types of effectiveness – effectiveness against severe illness, effectiveness against symptomatic illness, effectiveness against death – and articles often are vague about which they are using. But even then, effectiveness can *still* be misleading due to statistical quirks, as we'll now see.\n",
    "\n",
    "\n",
    "<br>\n",
    "\n",
    "**Your job is to** create a function named `effectiveness` that accepts a DataFrame like `vax` and returns the effectiveness of the vaccine against severe illness as a proportion between 0 and 1.\n",
    "\n",
    "***Note:*** Assume that you will not run into any division-by-zero errors."
   ]
  },
  {
   "cell_type": "code",
   "execution_count": 304,
   "metadata": {
    "tags": []
   },
   "outputs": [
    {
     "data": {
      "text/plain": [
       "0.6747820515830074"
      ]
     },
     "execution_count": 304,
     "metadata": {},
     "output_type": "execute_result"
    }
   ],
   "source": [
    "pu = vax.groupby('Vaccinated').agg({'Severe Sickness': \"mean\"}).loc[False, 'Severe Sickness']\n",
    "pv = vax.groupby('Vaccinated').agg({'Severe Sickness': \"mean\"}).loc[True, 'Severe Sickness']\n",
    "eff = 1 - pv/pu\n",
    "eff"
   ]
  },
  {
   "cell_type": "code",
   "execution_count": 302,
   "metadata": {
    "tags": []
   },
   "outputs": [
    {
     "data": {
      "text/plain": [
       "0.0001644782350716787"
      ]
     },
     "execution_count": 302,
     "metadata": {},
     "output_type": "execute_result"
    }
   ],
   "source": [
    "vax.groupby('Vaccinated').agg({'Severe Sickness': \"mean\"}).loc[False, 'Severe Sickness']"
   ]
  },
  {
   "cell_type": "code",
   "execution_count": null,
   "metadata": {},
   "outputs": [],
   "source": [
    "def effectiveness(df):\n",
    "    \"\"\"\n",
    "    Accepts a DataFrame like vax above, and returns the effectiveness of the\n",
    "    vaccine against severe illness.\n",
    "    \n",
    "    Example\n",
    "    -------\n",
    "    \n",
    "    >>> example_vax = pd.DataFrame({\n",
    "    ...             'Age': [15, 20, 25, 30, 35, 40],\n",
    "    ...             'Vaccinated': [True, True, True, False, False, False],\n",
    "    ...             'Severe Sickness': [True, False, False, False, True, True]\n",
    "    ...         })\n",
    "    >>> effectiveness(example_vax)\n",
    "    0.5\n",
    "    \n",
    "    \"\"\"\n",
    "    grouped = df.groupby('Vaccinated').agg({'Severe Sickness': \"mean\"})\n",
    "    pu = grouped.loc[False, 'Severe Sickness']\n",
    "    pv = grouped.loc[True, 'Severe Sickness']\n",
    "    eff = 1 - pv/pu\n",
    "    return eff"
   ]
  },
  {
   "cell_type": "code",
   "execution_count": 258,
   "metadata": {},
   "outputs": [
    {
     "data": {
      "text/plain": [
       "0.6747820515830074"
      ]
     },
     "execution_count": 258,
     "metadata": {},
     "output_type": "execute_result"
    }
   ],
   "source": [
    "# run this to see the result, and don't change this cell -- it is used by the tests\n",
    "eff_overall = effectiveness(vax)\n",
    "eff_overall"
   ]
  },
  {
   "cell_type": "markdown",
   "metadata": {},
   "source": [
    "If you implemented `effectiveness` correctly, you should see a vaccine effectiveness between 60% and 70%. This is OK, but not great! It means that the vaccine is only around 60-70% effective at preventing severe illness overall.\n",
    "\n",
    "But remember Simpson's Paradox, which roughly says that sometimes a result that appears in aggregated data disappears when we look at disaggregated data. So let's disaggregate the data and perform the same calculation. That is, let's compute the effectiveness of the vaccine within each of several age groups. For convenience, here is a list of the age groups we'll consider:"
   ]
  },
  {
   "cell_type": "code",
   "execution_count": null,
   "metadata": {},
   "outputs": [],
   "source": [
    "AGE_GROUPS = [\n",
    "    '12-15',\n",
    "    '16-19',\n",
    "    '20-29',\n",
    "    '30-39',\n",
    "    '40-49',\n",
    "    '50-59',\n",
    "    '60-69',\n",
    "    '70-79',\n",
    "    '80-89',\n",
    "    '90-'\n",
    "]"
   ]
  },
  {
   "cell_type": "markdown",
   "metadata": {},
   "source": [
    "Each string above lists an age group. For example, the age group `'12-15'` should contain anyone aged 12, 13, 14, or 15. The last age group, '90-', denotes everyone who is 90 or above. `vax` does not contain anyone younger than 12."
   ]
  },
  {
   "cell_type": "markdown",
   "metadata": {},
   "source": [
    "Create a function named `stratified_effectiveness` that accepts one argument – a DataFrame like `vax` – and returns the effectiveness of the vaccine within each of the age groups in `AGE_GROUPS`. The return value of the function should be a Series of the same length as `AGE_GROUPS`, with the index of the Series being age groups as strings."
   ]
  },
  {
   "cell_type": "code",
   "execution_count": 277,
   "metadata": {
    "scrolled": true,
    "tags": []
   },
   "outputs": [
    {
     "data": {
      "text/plain": [
       "['12']"
      ]
     },
     "execution_count": 277,
     "metadata": {},
     "output_type": "execute_result"
    }
   ],
   "source": [
    "a = '12-'\n",
    "a.strip('-').split('-')"
   ]
  },
  {
   "cell_type": "code",
   "execution_count": 285,
   "metadata": {
    "scrolled": true
   },
   "outputs": [],
   "source": [
    "a = pd.DataFrame()\n",
    "eff_group = []\n",
    "for age in AGE_GROUPS:\n",
    "    age_lst = np.array(age.strip('-').split('-')).astype(int)\n",
    "    if len(age_lst) > 1:\n",
    "        df_age = vax[(vax['Age'] >= age_lst[0]) & (vax['Age'] <= age_lst[1])]\n",
    "    else:\n",
    "        df_age = vax[vax['Age'] >= age_lst[0]]\n",
    "    eff_group.append(effectiveness(df_age))\n",
    "    \n",
    "df = pd.DataFrame({'age_group': AGE_GROUPS, 'effectiveness': eff_group}).set_index('age_group')"
   ]
  },
  {
   "cell_type": "code",
   "execution_count": 291,
   "metadata": {},
   "outputs": [
    {
     "data": {
      "text/plain": [
       "12-15    1.000000\n",
       "16-19    1.000000\n",
       "20-29    1.000000\n",
       "30-39    0.966591\n",
       "40-49    0.941211\n",
       "50-59    0.926886\n",
       "60-69    0.886400\n",
       "70-79    0.895772\n",
       "80-89    0.810277\n",
       "90-      0.924404\n",
       "Name: effectiveness, dtype: float64"
      ]
     },
     "execution_count": 291,
     "metadata": {},
     "output_type": "execute_result"
    }
   ],
   "source": [
    "df.index.name = None\n",
    "df['effectiveness']"
   ]
  },
  {
   "cell_type": "code",
   "execution_count": 242,
   "metadata": {
    "tags": []
   },
   "outputs": [
    {
     "data": {
      "text/plain": [
       "array(['N', 'N', 'N', ..., 'N', 'N', 'N'], dtype='<U1')"
      ]
     },
     "execution_count": 242,
     "metadata": {},
     "output_type": "execute_result"
    }
   ],
   "source": [
    "age_arr = vax['Age'].to_numpy()\n",
    "np.where(age_arr <= 15, '12-15', \n",
    "         np.where(age_arr <= 19, '16-19', \n",
    "                  np.where(age_arr <= 29, '20-29',\n",
    "                           np.where(age_arr <= 39, '30-39',\n",
    "                                    np.where(age_arr <= 19, '16-19',)))))"
   ]
  },
  {
   "cell_type": "code",
   "execution_count": null,
   "metadata": {},
   "outputs": [],
   "source": [
    "def stratified_effectiveness(df):\n",
    "    \"\"\"\n",
    "    Accepts one argument - a DataFrame like vax – and returns the effectiveness of the\n",
    "    vaccine within each of the age groups in AGE_GROUPS. The return value of the function\n",
    "    should be a Series of the same length as AGE_GROUPS, with the index of the Series being\n",
    "    age groups as strings.\n",
    "    \n",
    "    Example\n",
    "    -------\n",
    "    \n",
    "    >>> # this file contains a subset of israel.csv\n",
    "    >>> israel_raw = pd.read_csv(os.path.join('data', 'israel-subset.csv'))\n",
    "    >>> vax_subset = clean_israel_data(israel_raw).dropna()\n",
    "    >>> stratified_effectiveness(vax_subset).index[0]\n",
    "    '12-15'\n",
    "    >>> len(stratified_effectiveness(vax_subset))\n",
    "    10\n",
    "    \n",
    "    \"\"\"\n",
    "    eff_group = []\n",
    "    for age in AGE_GROUPS:\n",
    "        age_lst = np.array(age.strip('-').split('-')).astype(int)\n",
    "        if len(age_lst) > 1:\n",
    "            df_age = df[(df['Age'] >= age_lst[0]) & (df['Age'] <= age_lst[1])]\n",
    "        else:\n",
    "            df_age = df[df['Age'] >= age_lst[0]]\n",
    "        eff_group.append(effectiveness(df_age))\n",
    "        \n",
    "    result = pd.DataFrame({'age_group': AGE_GROUPS, 'effectiveness': eff_group}).set_index('age_group')\n",
    "    result.index.name = None\n",
    "    return result['effectiveness']"
   ]
  },
  {
   "cell_type": "code",
   "execution_count": 292,
   "metadata": {},
   "outputs": [
    {
     "data": {
      "text/plain": [
       "12-15    1.000000\n",
       "16-19    1.000000\n",
       "20-29    1.000000\n",
       "30-39    0.966591\n",
       "40-49    0.941211\n",
       "50-59    0.926886\n",
       "60-69    0.886400\n",
       "70-79    0.895772\n",
       "80-89    0.810277\n",
       "90-      0.924404\n",
       "Name: effectiveness, dtype: float64"
      ]
     },
     "execution_count": 292,
     "metadata": {},
     "output_type": "execute_result"
    }
   ],
   "source": [
    "# run this to see the result, and don't change this cell -- it is used by the tests\n",
    "s_eff = stratified_effectiveness(vax)\n",
    "s_eff"
   ]
  },
  {
   "cell_type": "markdown",
   "metadata": {},
   "source": [
    "If done correctly, you should notice that the effectiveness of the vaccine within each age group is higher than the overall effectiveness. In fact, the effectiveness of every age group is above 80%, and for most age groups it is above 90%.\n",
    "\n",
    "This is an instance of [Simpson's paradox](https://dsc80.com/resources/lectures/lec08/lec08.html#Simpson's-paradox). This result might seem strange, or even impossible – how can *every one* of the age groups see a higher effectiveness rate than the overall effectiveness rate? We'll take a deeper look at this in the next question, but for now let's consider a slightly different scenario where we can give dosages of a vaccine on a scale, so that some people can receive more vaccine than others. We expect that the higher a dosage someone receives, the less sick they become. But suppose we plot the data and we see something like this:\n",
    "\n",
    "<img src=\"./data/simpsons-aggregated.svg\">\n",
    "\n",
    "It actually looks like the more dosage someone receives, the more sick they get! But suppose we were to *disaggregate* the data into two age groups – old and young. That is, let's look at the same plot, but now mark young people as red and older people as purple. We might see this:\n",
    "\n",
    "<img src=\"./data/simpsons.svg\">\n",
    "\n",
    "Now we see a different story: the larger the dosage, the less the sickness within each age group. Therefore, while the overall trend is a *positive* relationship between dosage and sickness, the within-group trends are all negative, as we'd hope. **The reason for this difference comes from the fact that, for each dosage level, the sickness rate of older people is greater than the sickness rate for younger people.**\n",
    "\n",
    "If our data gives different answers depending on how we aggregate it, which answer should we use? In this case, we don't care about overall effectiveness – we care about how effective the vaccine will be for an *individual*. The data shows that, no matter what your age, unvaccinated people are ten times as likely to develop severe illness than vaccinated people, and it shows that the vaccine's effectiveness against severe illness is still quite strong."
   ]
  },
  {
   "cell_type": "markdown",
   "metadata": {},
   "source": [
    "The plots above may help to understand Simpson's paradox a little bit more, but it may still be unclear how each age group's effectiveness rate can be higher than the overall effectiveness rate. To explore this in more depth, **we'll build a calculator that takes in several parameters and calculates three effectivenesses: the overall (aggregate) effectiveness, the effectiveness among young people, and the effectiveness among old people.** For simplicity, we'll assume that there are just as many old people as young people.\n",
    "\n",
    "To calculate these effectivenesses, you need to know six numbers:\n",
    "\n",
    "1. The proportion of young people that are vaccinated.\n",
    "2. The proportion of old people that are vaccinated.\n",
    "3. The probability that a young vaccinated person will be hospitalized.\n",
    "4. The probability that a young *un*vaccinated person will be hospitalized.\n",
    "5. The probability that an old vaccinated person will be hospitalized.\n",
    "6. The probability that an old *un*vaccinated person will be hospitalized.\n",
    "\n",
    "Given these six pieces of information, you can calculate the overall effectiveness, the effectiveness in young people, and the effectiveness in old people.\n",
    "\n",
    "How, you may ask? Well, to find the effectiveness in young people, you can use the effectiveness definition from [Question 8](#Question-8-(Checkpoint-Question)) ($1 - \\frac{p_V}{p_U}$) directly since you are given the probability that a young vaccinated person will be hospitalized ($p_V$, for young people) and the probability that a young unvaccinated person will be hospitalized ($p_U$, for young people). The same applies for the effectiveness in old people.\n",
    "\n",
    "To find the overall effectiveness, you need to find the values of $p_V$ and $p_U$ in the overall population, given  the six parameters that `effectiveness_calculator` takes in. \n",
    "- One approach is to express all six parameters in terms of conditional probability notation and to use your knowledge of probability theory from DSC 40A. One idea to look at in particular is the law of total probability ([Wikipedia article](https://en.wikipedia.org/wiki/Law_of_total_probability), [slides from DSC 40A](https://dsc-courses.github.io/dsc40a-2021-fa/resources/lecture/lec14-filled.pdf)).\n",
    "- Another approach is to fix concrete numbers. \n",
    "    - For instance, assume that there are 1000 old people and 1000 young people (recall, we are operating under the assumption there are an equal number of old and young people, for simplicity).\n",
    "    - To calculate the probability that a vaccinated person is hospitalized, you need to know the _number_ of vaccinated people that are hospitalized in this hypothetical example. If you're told that 20% of young people are vaccinated and that 10% of young vaccinated people will be hospitalized, you know that $1000 \\cdot 0.2 \\cdot 0.1 = 20$ young vaccinated people will be hospitalized. \n",
    "    - If you're also told that 60% of old people are vaccinated and that 30% of old vaccinated people will be hospitalized, then you know that $1000 \\cdot 0.6 \\cdot 0.3 = 180$ old vaccinated people will be hospitalized.\n",
    "    - This means that 200 of 800 ($1000 \\cdot 0.2 + 1000 \\cdot 0.6$) vaccinated people will be hospitalized, so the overall $p_V$ is $p_V = \\frac{200}{800} = 0.25$ in this example.\n",
    "    - You can do the same for unvaccinated people to find the overall $p_U$.\n",
    "    - Working with concrete numbers like this *is* using probability theory, just with extra steps. But it might be less abstract and easier to reason about."
   ]
  },
  {
   "cell_type": "markdown",
   "metadata": {},
   "source": [
    "Create a function named `effectiveness_calculator` that accepts 6 arguments:\n",
    "\n",
    "1. `young_vaccinated_prop`: The proportion of young people that are vaccinated.\n",
    "2. `old_vaccinated_prop`: The proportion of old people that are vaccinated.\n",
    "3. `young_risk_vaccinated`: The probability that a young vaccinated person will be hospitalized.\n",
    "4. `young_risk_unvaccinated`: The probability that a young *un*vaccinated person will be hospitalized.\n",
    "5. `old_risk_vaccinated`: The probability that an old vaccinated person will be hospitalized.\n",
    "6. `old_risk_unvaccinated`: The probability that an old *un*vaccinated person will be hospitalized.\n",
    "\n",
    "It should return a dictionary with three keys: `'Overall'`, `'Young'`, and `'Old'`, whose values are the overall effectiveness, the effectiveness within young people, and the effectiveness within old people, respectively. This will allow you to experiment with Simpson's paradox by plugging in different values and seeing what happens.\n",
    "\n",
    "***Note:*** All arguments to `effectiveness_calculator` are numbers between 0 and 1 (inclusive)."
   ]
  },
  {
   "cell_type": "code",
   "execution_count": null,
   "metadata": {},
   "outputs": [],
   "source": [
    "risk_vaccinated = young_risk_vaccinated*young_vaccinated_prop + old_risk_vaccinated*old_vaccinated_prop\n",
    "risk_unvaccinated = young_risk_unvaccinated*(1 - young_vaccinated_prop) + old_risk_unvaccinated*(1-old_vaccinated_prop)"
   ]
  },
  {
   "cell_type": "code",
   "execution_count": 68,
   "metadata": {},
   "outputs": [],
   "source": [
    "young_vaccinated_prop=0.01\n",
    "old_vaccinated_prop=0.99\n",
    "young_risk_vaccinated=0.01\n",
    "young_risk_unvaccinated=0.20\n",
    "old_risk_vaccinated=0.10\n",
    "old_risk_unvaccinated=0.50"
   ]
  },
  {
   "cell_type": "code",
   "execution_count": 74,
   "metadata": {},
   "outputs": [],
   "source": [
    "young_vaccinated_prop=0.5\n",
    "old_vaccinated_prop=0.5\n",
    "young_risk_vaccinated=0.01\n",
    "young_risk_unvaccinated=0.20\n",
    "old_risk_vaccinated=0.01\n",
    "old_risk_unvaccinated=0.20"
   ]
  },
  {
   "cell_type": "code",
   "execution_count": 75,
   "metadata": {
    "tags": []
   },
   "outputs": [],
   "source": [
    "risk_vaccinated = young_risk_vaccinated*young_vaccinated_prop + old_risk_vaccinated*old_vaccinated_prop\n",
    "risk_unvaccinated = young_risk_unvaccinated*(1 - young_vaccinated_prop) + old_risk_unvaccinated*(1-old_vaccinated_prop)\n",
    "overall = 1 - risk_vaccinated/risk_unvaccinated\n",
    "young = 1 - young_risk_vaccinated/young_risk_unvaccinated\n",
    "old = 1 - old_risk_vaccinated/old_risk_unvaccinated"
   ]
  },
  {
   "cell_type": "code",
   "execution_count": 77,
   "metadata": {
    "tags": []
   },
   "outputs": [
    {
     "data": {
      "text/plain": [
       "(0.95, 0.95, 0.95)"
      ]
     },
     "execution_count": 77,
     "metadata": {},
     "output_type": "execute_result"
    }
   ],
   "source": [
    "young, old, overall"
   ]
  },
  {
   "cell_type": "code",
   "execution_count": null,
   "metadata": {},
   "outputs": [],
   "source": [
    "def effectiveness_calculator(\n",
    "    *,\n",
    "    young_vaccinated_prop,\n",
    "    old_vaccinated_prop,\n",
    "    young_risk_vaccinated,\n",
    "    young_risk_unvaccinated,\n",
    "    old_risk_vaccinated,\n",
    "    old_risk_unvaccinated\n",
    "):\n",
    "    \"\"\"Given various vaccination probabilities, computes the effectiveness.\n",
    "    \n",
    "    See the notebook for full instructions.\n",
    "    \n",
    "    Example\n",
    "    -------\n",
    "    \n",
    "    >>> test_eff = effectiveness_calculator(\n",
    "    ...  young_vaccinated_prop=0.5,\n",
    "    ...  old_vaccinated_prop=0.5,\n",
    "    ...  young_risk_vaccinated=0.01,\n",
    "    ...  young_risk_unvaccinated=0.20,\n",
    "    ...  old_risk_vaccinated=0.01,\n",
    "    ...  old_risk_unvaccinated=0.20\n",
    "    ... )\n",
    "    >>> test_eff['Overall'] == test_eff['Young'] == test_eff['Old'] == 0.95\n",
    "    True\n",
    "    \n",
    "    \"\"\"\n",
    "    risk_vaccinated = young_risk_vaccinated*young_vaccinated_prop + old_risk_vaccinated*old_vaccinated_prop\n",
    "    risk_unvaccinated = young_risk_unvaccinated*(1 - young_vaccinated_prop) + old_risk_unvaccinated*(1-old_vaccinated_prop)\n",
    "    overall = 1 - risk_vaccinated/risk_unvaccinated\n",
    "    young = 1 - young_risk_vaccinated/young_risk_unvaccinated\n",
    "    old = 1 - old_risk_vaccinated/old_risk_unvaccinated\n",
    "    result = {'Overall': overall, \"Young\": young, \"Old\": old}\n",
    "    return result"
   ]
  },
  {
   "cell_type": "code",
   "execution_count": 298,
   "metadata": {},
   "outputs": [
    {
     "data": {
      "text/plain": [
       "{'Overall': 0.5118226600985222, 'Young': 0.95, 'Old': 0.8}"
      ]
     },
     "execution_count": 298,
     "metadata": {},
     "output_type": "execute_result"
    }
   ],
   "source": [
    "# run this to see the result, and don't change this cell -- it is used by the tests\n",
    "eff_example = effectiveness_calculator(\n",
    "    young_vaccinated_prop=0.01,\n",
    "    old_vaccinated_prop=0.99,\n",
    "    young_risk_vaccinated=0.01,\n",
    "    young_risk_unvaccinated=0.20,\n",
    "    old_risk_vaccinated=0.10,\n",
    "    old_risk_unvaccinated=0.50\n",
    ")\n",
    "eff_example"
   ]
  }
 ],
 "metadata": {
  "kernelspec": {
   "display_name": "Python 3 (ipykernel)",
   "language": "python",
   "name": "python3"
  },
  "language_info": {
   "codemirror_mode": {
    "name": "ipython",
    "version": 3
   },
   "file_extension": ".py",
   "mimetype": "text/x-python",
   "name": "python",
   "nbconvert_exporter": "python",
   "pygments_lexer": "ipython3",
   "version": "3.8.13"
  },
  "otter": {
   "tests": {
    "q1": {
     "name": "q1",
     "points": null,
     "suites": [
      {
       "cases": [
        {
         "code": ">>> is_monotonic(np.array([3, 6, 2, 8])) == False\nTrue",
         "hidden": false,
         "locked": false,
         "points": 0.5
        },
        {
         "code": ">>> isinstance(mono, pd.DataFrame)\nTrue",
         "hidden": false,
         "locked": false,
         "points": 0.25
        },
        {
         "code": ">>> mono.shape == (192, 3)\nTrue",
         "hidden": false,
         "locked": false,
         "points": 0.25
        },
        {
         "code": ">>> mono.loc['Venezuela', 'Doses_admin_monotonic'] == False\nTrue",
         "hidden": false,
         "locked": false,
         "points": 1
        }
       ],
       "scored": true,
       "setup": "",
       "teardown": "",
       "type": "doctest"
      }
     ]
    },
    "q10": {
     "name": "q10",
     "points": null,
     "suites": [
      {
       "cases": [
        {
         "code": ">>> isinstance(eff_example, dict)\nTrue",
         "hidden": false,
         "locked": false,
         "points": 0.25
        },
        {
         "code": ">>> eff_example.keys() == {'Overall', 'Young', 'Old'}\nTrue",
         "hidden": false,
         "locked": false,
         "points": 0.25
        },
        {
         "code": ">>> .4 < eff_example['Overall'] < .6\nTrue",
         "hidden": false,
         "locked": false,
         "points": 0.5
        },
        {
         "code": ">>> test_eff = effectiveness_calculator(young_vaccinated_prop=0.5, old_vaccinated_prop=0.5, young_risk_vaccinated=0.01, young_risk_unvaccinated=0.20, old_risk_vaccinated=0.01, old_risk_unvaccinated=0.20)\n>>> test_eff['Overall'] == test_eff['Young'] == test_eff['Old'] == 0.95\nTrue",
         "hidden": false,
         "locked": false,
         "points": 1
        }
       ],
       "scored": true,
       "setup": "",
       "teardown": "",
       "type": "doctest"
      }
     ]
    },
    "q11": {
     "name": "q11",
     "points": null,
     "suites": [
      {
       "cases": [
        {
         "code": ">>> isinstance(eff_extreme, dict)\nTrue",
         "hidden": false,
         "locked": false,
         "points": 0.25
        },
        {
         "code": ">>> keys = {'old_risk_unvaccinated', 'young_risk_vaccinated', 'young_vaccinated_prop', 'old_risk_vaccinated', 'old_vaccinated_prop', 'young_risk_unvaccinated'}\n>>> extreme_example().keys() == keys\nTrue",
         "hidden": false,
         "locked": false,
         "points": 0.25
        },
        {
         "code": ">>> eff_extreme.keys() == {'Overall', 'Young', 'Old'}\nTrue",
         "hidden": false,
         "locked": false,
         "points": 0.25
        }
       ],
       "scored": true,
       "setup": "",
       "teardown": "",
       "type": "doctest"
      }
     ]
    },
    "q2": {
     "name": "q2",
     "points": null,
     "suites": [
      {
       "cases": [
        {
         "code": ">>> isinstance(tots, pd.DataFrame)\nTrue",
         "hidden": false,
         "locked": false,
         "points": 0.25
        },
        {
         "code": ">>> tots.shape == (192, 3)\nTrue",
         "hidden": false,
         "locked": false,
         "points": 0.25
        },
        {
         "code": ">>> int(tots.loc['Venezuela', 'Doses_admin']) == 35352675\nTrue",
         "hidden": false,
         "locked": false,
         "points": 1
        },
        {
         "code": ">>> int(tots.loc['Venezuela', 'People_partially_vaccinated']) == 22157232\nTrue",
         "hidden": false,
         "locked": false,
         "points": 1
        }
       ],
       "scored": true,
       "setup": "",
       "teardown": "",
       "type": "doctest"
      }
     ]
    },
    "q3": {
     "name": "q3",
     "points": null,
     "suites": [
      {
       "cases": [
        {
         "code": ">>> isinstance(pops, pd.DataFrame)\nTrue",
         "hidden": false,
         "locked": false,
         "points": 0.25
        },
        {
         "code": ">>> pops.shape\n(235, 11)",
         "hidden": false,
         "locked": false,
         "points": 0.25
        },
        {
         "code": ">>> pops.loc[pops['Country (or dependency)'] == 'Montserrat', 'Population (2020)'].iloc[0]\n4993",
         "hidden": false,
         "locked": false,
         "points": 1
        }
       ],
       "scored": true,
       "setup": "",
       "teardown": "",
       "type": "doctest"
      }
     ]
    },
    "q4": {
     "name": "q4",
     "points": null,
     "suites": [
      {
       "cases": [
        {
         "code": ">>> len(missing)\n14",
         "hidden": false,
         "locked": false,
         "points": 0.25
        },
        {
         "code": ">>> ex_tots = pd.DataFrame({\n...             'Doses_admin': [1, 2, 3],\n...             'People_partially_vaccinated': [1, 2, 3],\n...             'People_fully_vaccinated': [1, 2, 3]\n...         },\n...         index = ['China', 'Angola', 'Republic of Data Science']\n...     )\n>>> missing_in_pops(ex_tots, pops)\n{'Republic of Data Science'}",
         "hidden": false,
         "locked": false,
         "points": 1
        },
        {
         "code": ">>> isinstance(pops_fixed, pd.DataFrame)\nTrue",
         "hidden": false,
         "locked": false,
         "points": 0.25
        },
        {
         "code": ">>> pops_fixed.shape\n(235, 11)",
         "hidden": false,
         "locked": false,
         "points": 0.75
        },
        {
         "code": ">>> 'Burma' in pops_fixed['Country (or dependency)'].values\nTrue",
         "hidden": false,
         "locked": false,
         "points": 0.5
        },
        {
         "code": ">>> not 'Myanmar' in pops_fixed['Country (or dependency)'].values\nTrue",
         "hidden": false,
         "locked": false,
         "points": 0.5
        }
       ],
       "scored": true,
       "setup": "",
       "teardown": "",
       "type": "doctest"
      }
     ]
    },
    "q5": {
     "name": "q5",
     "points": null,
     "suites": [
      {
       "cases": [
        {
         "code": ">>> isinstance(top_k, pd.Series)\nTrue",
         "hidden": false,
         "locked": false,
         "points": 0.25
        },
        {
         "code": ">>> top_k.shape\n(10,)",
         "hidden": false,
         "locked": false,
         "points": 0.25
        },
        {
         "code": ">>> top_k.index[0]\n'Malta'",
         "hidden": false,
         "locked": false,
         "points": 0.5
        },
        {
         "code": ">>> tots_sample = pd.read_csv(os.path.join('data', 'tots_sample_for_tests.csv')).set_index('Country_Region')\n>>> top_k_fully_vaccinated(tots_sample, pops_fixed, 3).index[2]\n'Oman'",
         "hidden": false,
         "locked": false,
         "points": 1
        }
       ],
       "scored": true,
       "setup": "",
       "teardown": "",
       "type": "doctest"
      }
     ]
    },
    "q6": {
     "name": "q6",
     "points": null,
     "suites": [
      {
       "cases": [
        {
         "code": ">>> isinstance(israel, pd.DataFrame)\nTrue",
         "hidden": false,
         "locked": false,
         "points": 0.25
        },
        {
         "code": ">>> israel.shape\n(6937542, 3)",
         "hidden": false,
         "locked": false,
         "points": 0.25
        },
        {
         "code": ">>> str(israel.dtypes['Age'])\n'float64'",
         "hidden": false,
         "locked": false,
         "points": 1
        }
       ],
       "scored": true,
       "setup": "",
       "teardown": "",
       "type": "doctest"
      }
     ]
    },
    "q7": {
     "name": "q7",
     "points": null,
     "suites": [
      {
       "cases": [
        {
         "code": ">>> isinstance(test_stats_vax, np.ndarray) and isinstance(test_stats_sick, np.ndarray)\nTrue",
         "hidden": false,
         "locked": false,
         "points": 0.25
        },
        {
         "code": ">>> len(test_stats_vax) == len(test_stats_sick) == 100\nTrue",
         "hidden": false,
         "locked": false,
         "points": 0.5
        },
        {
         "code": ">>> missingness_type() in {1, 2, 3, 4}\nTrue",
         "hidden": false,
         "locked": false,
         "points": 0.25
        }
       ],
       "scored": true,
       "setup": "",
       "teardown": "",
       "type": "doctest"
      }
     ]
    },
    "q8": {
     "name": "q8",
     "points": null,
     "suites": [
      {
       "cases": [
        {
         "code": ">>> isinstance(eff_overall, float)\nTrue",
         "hidden": false,
         "locked": false,
         "points": 0.25
        },
        {
         "code": ">>> 0.6 < eff_overall < 0.7\nTrue",
         "hidden": false,
         "locked": false,
         "points": 0.25
        },
        {
         "code": ">>> 0.65 < eff_overall < 0.7\nTrue",
         "hidden": false,
         "locked": false,
         "points": 0.5
        },
        {
         "code": ">>> example_vax = pd.DataFrame({'Age': [15, 20, 25, 30, 35, 40], \n...                             'Vaccinated': [True, True, True, False, False, False], \n...                             'Severe Sickness': [True, False, False, False, True, True]})\n>>> effectiveness(example_vax)\n0.5",
         "hidden": false,
         "locked": false,
         "points": 1
        }
       ],
       "scored": true,
       "setup": "",
       "teardown": "",
       "type": "doctest"
      }
     ]
    },
    "q9": {
     "name": "q9",
     "points": null,
     "suites": [
      {
       "cases": [
        {
         "code": ">>> isinstance(s_eff, pd.Series)\nTrue",
         "hidden": false,
         "locked": false,
         "points": 0.25
        },
        {
         "code": ">>> len(s_eff)\n10",
         "hidden": false,
         "locked": false,
         "points": 0.25
        },
        {
         "code": ">>> s_eff.loc['12-15'] == 1.0\nTrue",
         "hidden": false,
         "locked": false,
         "points": 0.5
        }
       ],
       "scored": true,
       "setup": "",
       "teardown": "",
       "type": "doctest"
      }
     ]
    }
   }
  }
 },
 "nbformat": 4,
 "nbformat_minor": 2
}
